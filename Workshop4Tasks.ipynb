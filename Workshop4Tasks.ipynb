{
 "cells": [
  {
   "cell_type": "markdown",
   "id": "189ad123",
   "metadata": {},
   "source": [
    "# Programming for AI & Data Science\n",
    "# Workshop 4\n",
    "## Pandas, Seaborn, and Misc\n",
    "\n",
    "### Aims of the workshop\n",
    "Last week we looked at File IO: Opening raw files, reading and writing to them with context managers, and more importantly how we can use the CSV and JSON libraries to read/write File Formats for various purposes. In addition, we briefly explored Numpy as a foundational data structure for numerical computing.\n",
    "\n",
    "\n",
    "This workshop will explore the Pandas and Seaborn library for Data Analysis and Visualisation. Whilst we won’t be covering everything there is to cover with Pandas ( a lot! ), we can at least begin to utilise it to load in data, and initially explore it. As Seaborn is built on-top of Pandas, that is to say it understands the Dataframe and Series objects from Pandas, we can pass those new objects in to create rich and robust visualisations without worrying about implementation specific details. We will be utilising a lot of concepts which we’ve covered previously, combining them to achieve these visualisations. Along the way we’ll also introduce some miscellaneous concepts which you should now be able to understand, which didn’t exactly fit anywhere before.\n",
    "\n",
    "Please see ‘Useful Information’ below on how to lookup certain Python functionality. The concept behind this workshop is about discovery, and experimentation surrounding topics covered so far.\n",
    "\n",
    "Feel free to discuss the work with peers, or with any member of the teaching staff.\n",
    "\n",
    "----\n",
    "\n",
    "## Pandas\n",
    "As always, we should save workshop session in a Notebook. Name it something memorable, such as “Workshop 4”."
   ]
  },
  {
   "cell_type": "markdown",
   "id": "59ede51d",
   "metadata": {},
   "source": [
    "### Exercise 1:\n",
    "You may need to install pandas. If you receive a `ModuleNotFound` error at any point, this indicates the library isn’t installed. You can install this via command-prompt by executing the following: \n",
    "```\n",
    "pip install pandas.\n",
    "```\n",
    "If the library is already installed, but you want a newer version, you can pass `--upgrade` flag to the command. This might be useful.\n",
    "\n",
    "E.g.\n",
    "```\n",
    "pip install pandas --upgrade.\n",
    "```\n",
    "Note: If you get Permission Denied. Try adding the `--user` flag as well.\n",
    "\n",
    "You can obtain a list of installed python packages/libraries by using:\n",
    "```\n",
    "pip list\n",
    "```\n",
    "This will also provide a list of versions as well. The output should look similar to the following.\n",
    "```\n",
    "C:\\Users\\Brian>pip list\n",
    "Package             Version\n",
    "------------------- -------\n",
    "argon2-cffi         20.1.0\n",
    "attrs               21.2.0\n",
    "backcall            0.2.0\n",
    "bleach              4.0.0\n",
    "cffi                1.14.6\n",
    "colorama            0.4.4\n",
    "debugpy             1.4.1\n",
    "decorator           5.0.9\n",
    "```\n",
    "If we wanted to install a specific version of a library we could do something like the following:\n",
    "```\n",
    "pip install pandas==0.25.3\n",
    "``` \n",
    "### Requirements files\n",
    "When dealing with Python projects, we might be using several libraries. It might be important that these have specific versions too. When we give our Projects or notebook files we need a way to communicate what libraries we’re using, and what their versions are.\n",
    "\n",
    "Python has a solution to this called the __requirements.txt__ file. It is a list of python packages and their associated versions.\n",
    "\n",
    "Pip supports installation from a file instead of specifying each package individually. This is done by the -r flag, and specifying the file.\n",
    "```\n",
    "pip install -r requirements.txt\n",
    "```\n",
    "An example of a requirements.txt file might look like the following:\n",
    "```\n",
    "cycler==0.10.0        \t# via matplotlib\n",
    "kiwisolver==1.2.0     \t# via matplotlib\n",
    "matplotlib==3.2.1\n",
    "numpy==1.18.5\n",
    "pandas==1.0.4\n",
    "pyparsing==2.4.7      \t# via matplotlib\n",
    "python-dateutil==2.8.1\t# via matplotlib, pandas\n",
    "pytz==2020.1          \t# via pandas\n",
    "scipy==1.4.1          \t# via seaborn\n",
    "seaborn==0.10.1\n",
    "six==1.15.0           \t# via cycler, python-dateutil\n",
    "```\n",
    "\n",
    "---"
   ]
  },
  {
   "cell_type": "code",
   "execution_count": 1,
   "id": "b96154bb",
   "metadata": {},
   "outputs": [
    {
     "name": "stdout",
     "output_type": "stream",
     "text": [
      "Defaulting to user installation because normal site-packages is not writeable\n",
      "Requirement already satisfied: pandas in c:\\program files (x86)\\python39-32\\lib\\site-packages (1.3.2)\n",
      "Requirement already satisfied: python-dateutil>=2.7.3 in c:\\program files (x86)\\python39-32\\lib\\site-packages (from pandas) (2.8.1)\n",
      "Requirement already satisfied: pytz>=2017.3 in c:\\program files (x86)\\python39-32\\lib\\site-packages (from pandas) (2021.1)\n",
      "Requirement already satisfied: numpy>=1.17.3 in c:\\program files (x86)\\python39-32\\lib\\site-packages (from pandas) (1.20.3)\n",
      "Requirement already satisfied: six>=1.5 in c:\\program files (x86)\\python39-32\\lib\\site-packages (from python-dateutil>=2.7.3->pandas) (1.16.0)\n"
     ]
    },
    {
     "name": "stderr",
     "output_type": "stream",
     "text": [
      "WARNING: You are using pip version 21.1.2; however, version 21.3.1 is available.\n",
      "You should consider upgrading via the 'c:\\program files (x86)\\python39-32\\python.exe -m pip install --upgrade pip' command.\n"
     ]
    }
   ],
   "source": [
    "! pip install pandas"
   ]
  },
  {
   "cell_type": "markdown",
   "id": "3cf046da",
   "metadata": {},
   "source": [
    "---\n",
    "### Exercise 2\n",
    "Take your __duck_collection.json__ from last week, and load this file in. Using the JSON library, interpret this file so that you get a List of Dictionaries back. Remember if you need to import a library, try grouping them at the top of the Notebook, as the first cell.\n",
    "\n",
    "```\n",
    "ducks\n",
    "```\n",
    "> [{'first_name': 'Davey',  \n",
    "  'last_name': 'McDuck',  \n",
    "  'location': \"Rob's Office\",  \n",
    "  'insane': True,  \n",
    "  'followers': 12865,  \n",
    "  'following': 120,  \n",
    "  'weapons': ['wit', 'steely stare', 'devilish good looks'],  \n",
    "  'remorse': None},  \n",
    " {'first_name': 'Jim',  \n",
    "  'last_name': 'Bob',  \n",
    "  'location': 'Turing Lab',  \n",
    "  'insane': False,\n",
    "  'followers': 123,  \n",
    "  'following': 5000,  \n",
    "  'weapons': ['squeak'],  \n",
    "  'remorse': None},  \n",
    " {'first_name': 'Celest',  \n",
    "  'last_name': '',  \n",
    "  'location': 'Throne Room',\n",
    "  \n",
    "\n",
    "---"
   ]
  },
  {
   "cell_type": "code",
   "execution_count": 2,
   "id": "eec1d983",
   "metadata": {},
   "outputs": [
    {
     "name": "stdout",
     "output_type": "stream",
     "text": [
      "[{'first_name': 'Davey', 'last_name': 'McDuck', 'location': \"Rob's Office\", 'insane': True, 'followers': 12865, 'following': 120, 'weapons': ['wit', 'steely stare', 'devilish good looks'], 'remorse': None}, {'first_name': 'Jim', 'last_name': 'Bob', 'location': 'Turing Lab', 'insane': False, 'followers': 123, 'following': 5000, 'weapons': ['squeak'], 'remorse': None}, {'first_name': 'Celest', 'last_name': '', 'location': 'Throne Room', 'insane': True, 'followers': 40189, 'following': 1, 'weapons': ['politics', 'dance moves', 'chess grandmaster', 'immortality']}]\n"
     ]
    }
   ],
   "source": [
    "import json\n",
    "with open('example.json', mode='r') as duck_collection:\n",
    "    ducks = json.load(duck_collection)\n",
    "print(ducks)"
   ]
  },
  {
   "cell_type": "markdown",
   "id": "4c1481a6",
   "metadata": {},
   "source": [
    "---\n",
    "## Sorting with basic and more complex data types\n",
    "### Exercise 3\n",
    "Python has a built-in function called sorted which we can use to sort collections, such as Lists and Dictionaries.\n",
    "\n",
    "If we take some List of numbers, sorted will return them in ascending order.\n",
    "```\n",
    "some_number = [ 3, 1, 2, 7, 9, 4, 10 ]\n",
    "print( sorted(some_number) )\n",
    "```\n",
    "Additionally, sorted has a number of optional parameters we can pass in. One such parameter is defined as reverse, which allows us to go in descending order instead.\n",
    "```\n",
    "print( sorted(some_number, reverse=True) )\n",
    "```\n",
    "This works well for simple collections such as Lists, where the ‘<’ operator is defined between data elements. In our list example, each element here is an integer. And we know that int < int makes sense semantically.\n",
    "\n",
    "---"
   ]
  },
  {
   "cell_type": "code",
   "execution_count": null,
   "id": "b2696b6d",
   "metadata": {},
   "outputs": [],
   "source": []
  },
  {
   "cell_type": "markdown",
   "id": "a8ce59cc",
   "metadata": {},
   "source": [
    "---\n",
    "### Exercise 4\n",
    "Our issue comes when wanting to sort more complex data structures. By default Python checks if the < operator is defined. However, for our duck collection we just read in, each element in that list is a dictionary (representing a duck).\n",
    "\n",
    "Let’s try sorting this:\n",
    "```\n",
    "print( sorted(ducks) )\n",
    "```\n",
    "```\n",
    "---------------------------------------------------------------------------\n",
    "TypeError                                 Traceback (most recent call last)\n",
    "~\\AppData\\Local\\Temp/ipykernel_15912/2449917408.py in <module>\n",
    "     17 'last_name': '',\n",
    "     18 'location': 'Throne Room'}]\n",
    "---> 19 print( sorted(ducks) )\n",
    "\n",
    "TypeError: '<' not supported between instances of 'dict' and 'dict'\n",
    "\n",
    "```\n",
    "This is a problem. Thankfully sorted is clever, and allows us to provide a means to tell the function HOW to compare the two entries.\n",
    "\n",
    "We can provide a function to the key parameter of the sorted function. From previous workshops we know that functions are first-class data objects. We can pass them around just like we can with integers and strings and any other fundamental data type.\n",
    "\n",
    "We need to define a function which accepts the element to compare, in our case this is a dictionary, and return the actual value to be compared against.\n",
    "\n",
    "Example:\n",
    "```\n",
    "def comp_ducks( d ):\n",
    "\treturn d['first_name']\n",
    "\n",
    "sorted( ducks, key=comp_ducks )\n",
    "```\n",
    "We can make a function, accepting a dictionary (our `duck`), and returning a specific value from said duck which will have the < operator defined. If we wanted to sort our ducks based on their `first_name` this is how we would do so. In essence, we are telling Python what key to sort on, rather than it assuming it’s the dictionary as a whole!\n",
    "\n",
    "> [{'first_name': 'Celest',  \n",
    "'last_name': '',  \n",
    "'location': 'Throne Room',  \n",
    "'insane': True,  \n",
    "'followers': 40189,  \n",
    "'following': 1,  \n",
    "'weapons': ['politics', 'dance moves', 'chess grandmaster', 'immortality']},  \n",
    "{'first_name': 'Davey',  \n",
    "'last_name': 'McDuck',  \n",
    "'location': \"Rob's Office\",  \n",
    "'insane': True,  \n",
    "'followers': 12865,  \n",
    "'following': 120,  \n",
    "'weapons': ['wit', 'steely stare', 'devilish good looks'],  \n",
    "'remorse': None},  \n",
    "{'first_name': 'Jim',  \n",
    "'last_name': 'Bob',  \n",
    "'location': 'Turing Lab',  \n",
    "'insane': False, 'followers': 123,  \n",
    "'following': 5000,  \n",
    "'weapons': ['squeak'],  \n",
    "'remorse': None},\n",
    "\n",
    "\n",
    "You can now see that Celest is first, then Davey, then Jim. Alphabetical order, just as we would expect.\n",
    "\n",
    "Note: We can make this syntactically simpler, by use of a `lambda` function. These are a one-time use kind of function, which just means we don’t need to define them in the global scope and clutter things and come up with names. They are inherently nameless.\n",
    "```\n",
    "sorted( ducks, key=lambda d: d['first_name'] )\n",
    "```\n",
    "Same thing, takes an input and returns the value at the key `‘first_name’`. If I wanted to sort on a different member of our dictionary, I can put the key there.\n",
    "\n",
    "E.g.\n",
    "```\n",
    "sorted( ducks, key=lambda d: d['followers'] )\n",
    "```\n",
    "Or modify the function before:\n",
    "```\n",
    "def comp_ducks( d ):\n",
    "\treturn d['followers']\n",
    "\n",
    "sorted( ducks, key=comp_ducks )\n",
    "```\n",
    "Standard convention here is to use the `lambda` approach; however, either way works. If you try the new followers key sorting, you should obtain Jim, Davey, then Celeste.\n",
    "\n",
    "---"
   ]
  },
  {
   "cell_type": "code",
   "execution_count": 3,
   "id": "8cced364",
   "metadata": {},
   "outputs": [
    {
     "data": {
      "text/plain": [
       "[{'first_name': 'Jim',\n",
       "  'last_name': 'Bob',\n",
       "  'location': 'Turing Lab',\n",
       "  'insane': False,\n",
       "  'followers': 123,\n",
       "  'following': 5000,\n",
       "  'weapons': ['squeak'],\n",
       "  'remorse': None},\n",
       " {'first_name': 'Davey',\n",
       "  'last_name': 'McDuck',\n",
       "  'location': \"Rob's Office\",\n",
       "  'insane': True,\n",
       "  'followers': 12865,\n",
       "  'following': 120,\n",
       "  'weapons': ['wit', 'steely stare', 'devilish good looks'],\n",
       "  'remorse': None},\n",
       " {'first_name': 'Celest',\n",
       "  'last_name': '',\n",
       "  'location': 'Throne Room',\n",
       "  'insane': True,\n",
       "  'followers': 40189,\n",
       "  'following': 1,\n",
       "  'weapons': ['politics', 'dance moves', 'chess grandmaster', 'immortality']}]"
      ]
     },
     "execution_count": 3,
     "metadata": {},
     "output_type": "execute_result"
    }
   ],
   "source": [
    "def comp_ducks( d ):\n",
    "    return d['followers']\n",
    "\n",
    "sorted( ducks, key=comp_ducks )"
   ]
  },
  {
   "cell_type": "markdown",
   "id": "8db2a98d",
   "metadata": {},
   "source": [
    "---\n",
    "## Titanic Dataset\n",
    "### Exercise 5\n",
    "On canvas, you will find a dataset included. We will be using this for some initial analysis and visualisation with Pandas Seaborn.\n",
    "\n",
    "Download __titanic.csv__, and put it in the same folder as your notebook. Just as you have done with previous data files. This dataset is a bit more complicated than what we looked at in the lectures this week. This is a Dataset about passengers on the Titanic, including whether they survived the sinking. For this module, I have modified the dataset for you to remove some tricky issues.\n",
    "\n",
    "---"
   ]
  },
  {
   "cell_type": "code",
   "execution_count": null,
   "id": "32e8f791",
   "metadata": {},
   "outputs": [],
   "source": []
  },
  {
   "cell_type": "markdown",
   "id": "a2331088",
   "metadata": {},
   "source": [
    "---\n",
    "### Exercise 6\n",
    "Using the `read_csv` function, read in the __titanic.csv__ file. This function accepts a string, as the filepath. Pandas will handle all the necessary file opening, reading, interpreting, and closing for you. \n",
    "\n",
    "The return of this function should be a Dataframe object. This is one of the custom Types which Pandas provides for us.\n",
    "\n",
    "1.\tRead in the Titanic CSV file\n",
    "2.\tVerify that it is of type `pandas.core.frame.DataFrame`\n",
    "\n",
    "```\n",
    "\tPassengerId\tSurvived\tPclass\tName\tSex\tAge\tSibSp\tParch\tTicket\tFare\tCabin\tEmbarked\n",
    "0\t1\t0\t3\tBraund, Mr. Owen Harris\tmale\t22.0\t1\t0\tA/5 21171\t7.2500\tA001\tS\n",
    "1\t2\t1\t1\tCumings, Mrs. John Bradley (Florence Briggs Th...\tfemale\t38.0\t1\t0\tPC 17599\t71.2833\tC85\tC\n",
    "2\t3\t1\t3\tHeikkinen, Miss. Laina\tfemale\t26.0\t0\t0\tSTON/O2. 3101282\t7.9250\tC85\tS\n",
    "3\t4\t1\t1\tFutrelle, Mrs. Jacques Heath (Lily May Peel)\tfemale\t35.0\t1\t0\t113803\t53.1000\tC123\tS\n",
    "4\t5\t0\t3\tAllen, Mr. William Henry\tmale\t35.0\t0\t0\t373450\t8.0500\tC123\tS\n",
    "```\n",
    "\n",
    "> <class 'pandas.core.frame.DataFrame'>\n",
    "\n",
    "---"
   ]
  },
  {
   "cell_type": "code",
   "execution_count": 4,
   "id": "76574cb5",
   "metadata": {},
   "outputs": [
    {
     "name": "stdout",
     "output_type": "stream",
     "text": [
      "<class 'pandas.core.frame.DataFrame'>\n"
     ]
    }
   ],
   "source": [
    "import csv\n",
    "import pandas as pd\n",
    "my_dataframe = pd.read_csv('titanic.csv')\n",
    "print(type(my_dataframe))"
   ]
  },
  {
   "cell_type": "markdown",
   "id": "76e3fe0f",
   "metadata": {},
   "source": [
    "---\n",
    "### Exercise 7\n",
    "We can obtain the columns of the DataFrame with the columns attribute. Print the columns of the dataframe.\n",
    "\n",
    "This can be achieved by printing `.columns` directly, or by doing a for loop over the columns values and printing each member. Where df here represents the dataframe object read in from Ex 6.\n",
    "```\n",
    "print( df.columns )\n",
    "# or\n",
    "for c in df.columns:\n",
    "\tprint(c)\n",
    "``` \n",
    "> Index(['PassengerId', 'Survived', 'Pclass', 'Name', 'Sex', 'Age', 'SibSp', 'Parch', 'Ticket', 'Fare', 'Cabin', 'Embarked'],  \n",
    "       dtype='object'}\n",
    "\n",
    "> PassengerId    \n",
    "Survived    \n",
    "Pclass    \n",
    "Name    \n",
    "Sex    \n",
    "Age    \n",
    "SibSp    \n",
    "Parch    \n",
    "Ticket    \n",
    "Fare    \n",
    "Cabin    \n",
    "Embarked\n",
    "\n",
    "---"
   ]
  },
  {
   "cell_type": "code",
   "execution_count": 5,
   "id": "4de544b9",
   "metadata": {},
   "outputs": [
    {
     "name": "stdout",
     "output_type": "stream",
     "text": [
      "Index(['PassengerId', 'Survived', 'Pclass', 'Name', 'Sex', 'Age', 'SibSp',\n",
      "       'Parch', 'Ticket', 'Fare', 'Cabin', 'Embarked'],\n",
      "      dtype='object')\n"
     ]
    }
   ],
   "source": [
    "print(my_dataframe.columns)"
   ]
  },
  {
   "cell_type": "markdown",
   "id": "447155ac",
   "metadata": {},
   "source": [
    "---\n",
    "### Exercise 8\n",
    "\n",
    "We can index a specific column that we want to look at by use of `[]`. This is similar to how you’ve already indexed Dictionaries within Python.\n",
    "\n",
    "Index the ‘Fare’ column and assign this to a variable. This should be of type Series, and will represent the entire column. Where each item represents a Fare somebody paid for their ticket.\n",
    "\n",
    "Note: The strings are case-sensitive here. ‘Fare’ != ‘fare’\n",
    "```\n",
    "fares = df['Fare']\n",
    "print( type(fares) )\n",
    "print(fares)\n",
    "``` \n",
    "```\n",
    "<class 'pandas.core.series.Series'>  \n",
    "0       7.2500  \n",
    "1      71.2833\n",
    "2       7.9250\n",
    "3      53.1000\n",
    "4       8.0500\n",
    "        ...\n",
    "886    13.0000\n",
    "887    30.0000\n",
    "888    23.4500\n",
    "889     7.7500\n",
    "Name: fare, Length: 891, dtype: float64\n",
    "```\n",
    "\n",
    "---"
   ]
  },
  {
   "cell_type": "code",
   "execution_count": 6,
   "id": "123d00ce",
   "metadata": {},
   "outputs": [
    {
     "name": "stdout",
     "output_type": "stream",
     "text": [
      "<class 'pandas.core.series.Series'>\n",
      "0       7.2500\n",
      "1      71.2833\n",
      "2       7.9250\n",
      "3      53.1000\n",
      "4       8.0500\n",
      "        ...   \n",
      "886    13.0000\n",
      "887    30.0000\n",
      "888    23.4500\n",
      "889    30.0000\n",
      "890     7.7500\n",
      "Name: Fare, Length: 891, dtype: float64\n"
     ]
    }
   ],
   "source": [
    "fares = my_dataframe['Fare']\n",
    "print(type(fares))\n",
    "print(fares)"
   ]
  },
  {
   "cell_type": "markdown",
   "id": "d216818e",
   "metadata": {},
   "source": [
    "---\n",
    "## Statistical measures of Data Series & Useful functionality\n",
    "Pandas Series objects have many defined methods, available at https://pandas.pydata.org/pandas-docs/stable/reference/api/pandas.Series.html\n",
    "\n",
    "### Exercise 9\n",
    "Calculate and display:\n",
    "1.\tThe count of Fares. This should provide the number of non-null Fare records you hold (valid numbers).\n",
    "2.\tThe mean of the Fares.\n",
    "3.\tThe median Fare.\n",
    "4.\tThe sum of all the Fares. ( sum method ).\n",
    "5.\tThe min and max of the Fares.\n",
    "6.\tThe standard deviation of the Fare price. Commonly abbreviated to std.\n",
    "7.\tThe 50% Quantile of Fare. This is effectively the mid-point of the range. The function accepts a number from 0 -> 1, where 1 represents 100%.\n",
    "\n",
    "> 891  \n",
    "32.204207968574636  \n",
    "14.4542  \n",
    "28693.9493  \n",
    "0.0 512.3292  \n",
    "49.6934286971809\n",
    "14.4542\n",
    "\n",
    " \n",
    "---"
   ]
  },
  {
   "cell_type": "code",
   "execution_count": 7,
   "id": "80744318",
   "metadata": {},
   "outputs": [
    {
     "name": "stdout",
     "output_type": "stream",
     "text": [
      "count    891.000000\n",
      "mean      32.204208\n",
      "std       49.693429\n",
      "min        0.000000\n",
      "25%        7.910400\n",
      "50%       14.454200\n",
      "75%       31.000000\n",
      "max      512.329200\n",
      "Name: Fare, dtype: float64\n"
     ]
    }
   ],
   "source": [
    "print(my_dataframe['Fare'].describe())"
   ]
  },
  {
   "cell_type": "markdown",
   "id": "3ee5819d",
   "metadata": {},
   "source": [
    "---\n",
    "### Exercise 10\n",
    "Modify the simple output of Ex 9, and use f-strings to print a more user-friendly output. E.g “There are 891 Fare records”, this should put the expression itself into the f-string.\n",
    "```\n",
    "print( f\"There are {fares.count()} Fare records\" )\n",
    "```\n",
    "\n",
    "---"
   ]
  },
  {
   "cell_type": "code",
   "execution_count": 8,
   "id": "6f25e10f",
   "metadata": {},
   "outputs": [
    {
     "name": "stdout",
     "output_type": "stream",
     "text": [
      "There are 891 Fare records\n"
     ]
    }
   ],
   "source": [
    "print( f\"There are {fares.count()} Fare records\" )"
   ]
  },
  {
   "cell_type": "markdown",
   "id": "4b451df7",
   "metadata": {},
   "source": [
    "---\n",
    "### Exercise 11\n",
    "If we wanted to round the Mean in our example, we might consider using the `round()` function passing the float, and the number of decimal places.\n",
    "\n",
    "However, f-strings also allow us to specify the number of places to round to in the `{}` template itself.\n",
    "```\n",
    "print( f\"Mean Fare: {fares.mean()}\" )\n",
    "print( f\"Mean Fare: {fares.mean():.2f}\" )\n",
    "```\n",
    "We can use `:` and then specify some special characters, notably `.2f` will round to 2 decimal places.\n",
    "\n",
    "For more options here, you may find https://mkaz.blog/code/python-string-format-cookbook/ a useful comprehensive example.\n",
    "\n",
    "1.\tUsing this f-string approach, round all floats to 2 decimal places.\n",
    "\n",
    "---"
   ]
  },
  {
   "cell_type": "code",
   "execution_count": 9,
   "id": "0c0994f9",
   "metadata": {},
   "outputs": [
    {
     "name": "stdout",
     "output_type": "stream",
     "text": [
      "Mean Fare: 32.20\n"
     ]
    }
   ],
   "source": [
    "print( f\"Mean Fare: {fares.mean():.2f}\" )"
   ]
  },
  {
   "cell_type": "markdown",
   "id": "a16ba9e8",
   "metadata": {},
   "source": [
    "---\n",
    "### Exercise 12\n",
    "\n",
    "Index the Embarked column, and calculate the mode of this column. What is the most common Embarked location?\n",
    "\n",
    "Remember: Mode doesn’t return a single item, but many. You may wish to index `[0]` here, or iterate through the mode output and print each individually.\n",
    "\n",
    "---"
   ]
  },
  {
   "cell_type": "code",
   "execution_count": 10,
   "id": "40a495ea",
   "metadata": {},
   "outputs": [
    {
     "name": "stdout",
     "output_type": "stream",
     "text": [
      "8.05\n"
     ]
    }
   ],
   "source": [
    "print(fares.mode()[0])"
   ]
  },
  {
   "cell_type": "markdown",
   "id": "8fad5b56",
   "metadata": {},
   "source": [
    "---\n",
    "### Exercise 13\n",
    "\n",
    "We can use the `.unique()` function of a Data Series object to find all the types of values in a column which is categoric. Examples of this could be eye colour, or hair colour. Non-continuous data.\n",
    "\n",
    "Find the unique entries for our Embarked Column.\n",
    "\n",
    "---"
   ]
  },
  {
   "cell_type": "code",
   "execution_count": 11,
   "id": "b9b110f6",
   "metadata": {},
   "outputs": [
    {
     "name": "stdout",
     "output_type": "stream",
     "text": [
      "['S' 'C' 'Q']\n"
     ]
    }
   ],
   "source": [
    "print(my_dataframe['Embarked'].unique())"
   ]
  },
  {
   "cell_type": "markdown",
   "id": "c070f249",
   "metadata": {},
   "source": [
    "---\n",
    "### Exercise 14\n",
    "This doesn’t tell us how many of each exist in our dataset yet. We can use the `value_counts` function to obtain the value and the number of entries which exist.\n",
    "\n",
    "Get the count of Embarked, then compare it against the `value_counts`.\n",
    " \n",
    "```\n",
    "print( df['Embarked'].count() )\n",
    "print( df['Embarked'].value_counts() )\n",
    "```\n",
    "> 891  \n",
    "S  644  \n",
    "C  169  \n",
    "Q   78\n",
    "Name: Embarked, dtype: int64\n",
    "\n",
    "---"
   ]
  },
  {
   "cell_type": "code",
   "execution_count": 12,
   "id": "be89b8ff",
   "metadata": {},
   "outputs": [
    {
     "name": "stdout",
     "output_type": "stream",
     "text": [
      "891\n",
      "S    644\n",
      "C    169\n",
      "Q     78\n",
      "Name: Embarked, dtype: int64\n"
     ]
    }
   ],
   "source": [
    "print( my_dataframe['Embarked'].count() )\n",
    "print( my_dataframe['Embarked'].value_counts() )"
   ]
  },
  {
   "cell_type": "markdown",
   "id": "1e5fb382",
   "metadata": {},
   "source": [
    "---\n",
    "### Exercise 15\n",
    "We can use the method describe of a DataFrame and a Series object to view the data itself, where it will automatically calculate properties about the data for us. This is useful if we want to inspect this data ourselves.\n",
    "```\n",
    "bdf.describe()\n",
    "```\n",
    "---\n",
    "```\n",
    "      Passengerid    Survived      Pclass        Age       SibSp       Parch        Fare\n",
    "count  891.000000  891.000000  891.000000  891.00000  891.000000  891.000000  891.000000\n",
    " mean  446.000000    0.383838    2.308642   29.58156    0.523008    0.381594   32.204208\n",
    "  std  257.353842    0.486592    0.836071   14.55459    1.102743    0.806057   49.693429\n",
    "  min    1.000000    0.000000    1.000000    0.42000    0.000000    0.000000    0.000000\n",
    "  25%  223.500000    0.000000    2.000000   20.00000    0.000000    0.000000    7.910400\n",
    "  50%  446.000000    0.000000    3.000000   28.00000    0.000000    0.000000   14.454200\n",
    "  75%  668.500000    1.000000    3.000000   38.00000    1.000000    0.000000   31.000000\n",
    "  max  891.000000    1.000000    3.000000   80.00000    8.000000    6.000000  512.329200\n",
    "```\n",
    "```\n",
    "df['Fare'].describe()\n",
    "```\n",
    "```\n",
    "count    891.000000\n",
    " mean     32.204208\n",
    "  std     49.693429\n",
    "  min      0.000000\n",
    "  25%      7.910400\n",
    "  50%     14.454200\n",
    "  75%     31.000000\n",
    "  max    512.329200\n",
    "Name: Fare, dtype: float64\n",
    "```\n",
    "\n",
    "---\n"
   ]
  },
  {
   "cell_type": "code",
   "execution_count": null,
   "id": "13cee50c",
   "metadata": {},
   "outputs": [],
   "source": []
  },
  {
   "cell_type": "markdown",
   "id": "ce869305",
   "metadata": {},
   "source": [
    "---\n",
    "### Exercise 16:\n",
    "We can use Pandas to write some expressions which can then be used to filter the Dataframe itself.\n",
    "\n",
    "We can find all entries where Age meets a certain criteria. E.g Age >= 18, to find all adults. Something we don’t have a column for!\n",
    "\n",
    "E.g.\n",
    "```\n",
    "df['Age'] >= 18\n",
    "```\n",
    "This should provide a List of True/ False values, for each record in our dataset. You can verify this. Check the type. It should be a Series. Call `.count()` on it, you should have the same number as you have rows in the original dataframe. ( This should be 891 )\n",
    "\n",
    "---"
   ]
  },
  {
   "cell_type": "code",
   "execution_count": 45,
   "id": "357bb3a0",
   "metadata": {},
   "outputs": [
    {
     "name": "stdout",
     "output_type": "stream",
     "text": [
      "891\n"
     ]
    }
   ],
   "source": [
    "print((my_dataframe['Age'] >= 18).count())"
   ]
  },
  {
   "cell_type": "markdown",
   "id": "f7866371",
   "metadata": {},
   "source": [
    "---\n",
    "### Exercise 17\n",
    "We can now use this Series of True/False values to index our original dataframe. In essence, grab only the rows where True exists (where it matches out criteria).\n",
    "```\n",
    "df[ df['Age'] >= 18 ]\n",
    "```\n",
    "If we output that dataframe, we should see that the count is now less than 891. And all the records here should represent adults.\n",
    "\n",
    "1.\tUsing this technique, find all passengers who paid more than 15 for their ticket.\n",
    "\n",
    "---"
   ]
  },
  {
   "cell_type": "code",
   "execution_count": 46,
   "id": "ed140e67",
   "metadata": {},
   "outputs": [
    {
     "name": "stdout",
     "output_type": "stream",
     "text": [
      "PassengerId    433\n",
      "Survived       433\n",
      "Pclass         433\n",
      "Name           433\n",
      "Sex            433\n",
      "Age            433\n",
      "SibSp          433\n",
      "Parch          433\n",
      "Ticket         433\n",
      "Fare           433\n",
      "Cabin          433\n",
      "Embarked       433\n",
      "dtype: int64\n"
     ]
    }
   ],
   "source": [
    "print((my_dataframe[ my_dataframe['Fare'] > 15 ]).count())"
   ]
  },
  {
   "cell_type": "markdown",
   "id": "74e82777",
   "metadata": {},
   "source": [
    "---\n",
    "### Exercise 18\n",
    "Let’s consider the mode of the ‘Sex’ column. We have an issue with this column. If we call unique on this, we can see the problem.\n",
    "```\n",
    "df['Sex'].unique()\n",
    "```\n",
    "> array(['male', 'female', nan], dtype=object\n",
    " \n",
    "There is a `nan` value introduced. This might cause us some difficulty when plotting things later. Likewise, other columns might have issues.\n",
    "\n",
    "We can use `df.isnull().any()` to find any columns which contain erroneous entries that might cause problems.\n",
    "\n",
    "```\n",
    "df.isnull().any()\n",
    "\n",
    "PassengerId    False\n",
    "Survived       False\n",
    "Pclass         False\n",
    "Name           False\n",
    "Sex             True\n",
    "Age            False\n",
    "SibSp          False\n",
    "Parch          False\n",
    "Ticket         False\n",
    "Fare           False\n",
    "Cabin          False\n",
    "Embarked       False\n",
    "dtype: bool\n",
    "```\n",
    "\n",
    "---"
   ]
  },
  {
   "cell_type": "code",
   "execution_count": 47,
   "id": "c68d0ec1",
   "metadata": {},
   "outputs": [
    {
     "name": "stdout",
     "output_type": "stream",
     "text": [
      "PassengerId    False\n",
      "Survived       False\n",
      "Pclass         False\n",
      "Name           False\n",
      "Sex            False\n",
      "Age            False\n",
      "SibSp          False\n",
      "Parch          False\n",
      "Ticket         False\n",
      "Fare           False\n",
      "Cabin          False\n",
      "Embarked       False\n",
      "dtype: bool\n"
     ]
    }
   ],
   "source": [
    "print(my_dataframe.isnull().any())"
   ]
  },
  {
   "cell_type": "markdown",
   "id": "791a1a9a",
   "metadata": {},
   "source": [
    "---\n",
    "### Exercise 19\n",
    "To fix this, we have two options:\n",
    "1.\tWe could fix it in the CSV file itself, saving out a cleaner CSV file.\n",
    "2.\tUse Pandas/Seaborn just before plotting to patch the data momentarily (doesn’t change the file on disk).\n",
    "\n",
    "For this exercise, let’s assume we can’t change the CSV file. We can use the `.fillna()` function on a column to fix that issue.\n",
    "```\n",
    "df['Sex'].fillna( value='male', inplace=True)\n",
    "```\n",
    "We provide a default value to patch it with, the mode of the column. We also specify inplace=True, as we want to modify the original dataframe, `df`. Otherwise this call just returns a new dataframe.\n",
    "\n",
    "Fixed:\n",
    "```\n",
    "df['Sex'].unique()\n",
    "```\n",
    "> array(['male', 'female'], dtype=object\n",
    "\n",
    "---"
   ]
  },
  {
   "cell_type": "code",
   "execution_count": 48,
   "id": "5d98ebd9",
   "metadata": {},
   "outputs": [
    {
     "name": "stdout",
     "output_type": "stream",
     "text": [
      "['male' 'female']\n"
     ]
    }
   ],
   "source": [
    "my_dataframe['Sex'].fillna( value='male', inplace=True)\n",
    "print(my_dataframe['Sex'].unique())"
   ]
  },
  {
   "cell_type": "markdown",
   "id": "8991665f",
   "metadata": {},
   "source": [
    "---\n",
    "## Seaborn\n",
    "Seaborn has three high-level functions for plotting. Each of these functions uses many things under-the-hood. Primarily these are split into three types:\n",
    "1.\tRelational plots (scatterplot, lineplot)\n",
    "2.\tDistributions (histplot, kdeplot, ecdfplot, rugplot)\n",
    "3.\tCategorical plots (stripplot, swarmplot, boxplot, violinplot, pointplot, barplot)\n",
    " \n",
    "In the lecture this week, we looked at using scatterplot directly. However, we could also have used relplot, the higher-level one, and Seaborn would have figured out to use scatterplot under-the-hood.\n",
    "\n",
    "In the lecture we noticed that the AxesSubPlot type came back from scatterplot, which wasn’t as usable as the FacetGrid that our displot output. If we use relplot instead, we should get back a FacetGrid which is a figure-level operation. Whereas the sub-boxes here operate on the axes-level which doesn’t always have nice functionality.\n",
    "\n",
    "---\n",
    "### Exercise 20\n",
    "Make sure that seaborn is imported (at the top of your Notebook). We will be using `sns` as the alias here.\n",
    "\n",
    "---"
   ]
  },
  {
   "cell_type": "code",
   "execution_count": 17,
   "id": "83e843ca",
   "metadata": {},
   "outputs": [],
   "source": [
    "import seaborn as sns\n"
   ]
  },
  {
   "cell_type": "markdown",
   "id": "0d28e999",
   "metadata": {},
   "source": [
    "---\n",
    "### Exercise 21\n",
    "Let’s pick two continuous values to plot against each other. Remember, we can refer back to the columns attribute to see what we have available. This will be a form of multivariate analysis; how one variable is against another.\n",
    "\n",
    "We can use `relplot`, which is the more general plotting function. This will return a FacetGrid and avoid the problem we encountered in the lecture.\n",
    "```\n",
    "sns.relplot(data=df, x='Age', y='Fare')\n",
    "```\n",
    "We provide relplot with the Dataframe to draw from. The column name to use for the x-axis, and the column name for the y-axis. The only downside here is we don’t have any lines of best-fit.\n",
    "\n",
    "---"
   ]
  },
  {
   "cell_type": "code",
   "execution_count": 18,
   "id": "ca9a7f3a",
   "metadata": {},
   "outputs": [
    {
     "data": {
      "text/plain": [
       "<seaborn.axisgrid.FacetGrid at 0x4e3e448>"
      ]
     },
     "execution_count": 18,
     "metadata": {},
     "output_type": "execute_result"
    },
    {
     "data": {
      "image/png": "[encoded data removed]",
      "text/plain": [
       "<Figure size 360x360 with 1 Axes>"
      ]
     },
     "metadata": {
      "needs_background": "light"
     },
     "output_type": "display_data"
    }
   ],
   "source": [
    "import seaborn as sns\n",
    "sns.relplot(data=my_dataframe, x='Age', y='Fare')"
   ]
  },
  {
   "cell_type": "markdown",
   "id": "dbb2e472",
   "metadata": {},
   "source": [
    "---\n",
    "### Exercise 22\n",
    "We also looked at Univariate analysis, let’s look at Fare and see the distribution of ticket prices. Using `displot()`, plot the Fare column. For now, leave any bins and binwidth to their default values.\n",
    "\n",
    "---"
   ]
  },
  {
   "cell_type": "code",
   "execution_count": 20,
   "id": "fa600687",
   "metadata": {},
   "outputs": [
    {
     "data": {
      "text/plain": [
       "<seaborn.axisgrid.FacetGrid at 0x4e3e508>"
      ]
     },
     "execution_count": 20,
     "metadata": {},
     "output_type": "execute_result"
    },
    {
     "data": {
      "image/png": "[encoded data removed]",
      "text/plain": [
       "<Figure size 360x360 with 1 Axes>"
      ]
     },
     "metadata": {
      "needs_background": "light"
     },
     "output_type": "display_data"
    }
   ],
   "source": [
    "import seaborn as sns\n",
    "sns.displot(my_dataframe['Fare'])"
   ]
  },
  {
   "cell_type": "markdown",
   "id": "e2f28212",
   "metadata": {},
   "source": [
    "---\n",
    "### Exercise 23\n",
    "In Exercise 22, we can see that’s a lot of bars. Let’s try to tweak that. Modify your function call from Exercise 22, and change the following:\n",
    "1.\tSpecify the number of bins=20\n",
    "2.\tInstead of bins, specify the `binwidth` to be 50.\n",
    "\n",
    "  \n",
    "---"
   ]
  },
  {
   "cell_type": "code",
   "execution_count": 38,
   "id": "46e756c3",
   "metadata": {},
   "outputs": [
    {
     "data": {
      "image/png": "[encoded data removed]",
      "text/plain": [
       "<Figure size 360x360 with 1 Axes>"
      ]
     },
     "metadata": {
      "needs_background": "light"
     },
     "output_type": "display_data"
    },
    {
     "data": {
      "image/png": "[encoded data removed]",
      "text/plain": [
       "<Figure size 360x360 with 1 Axes>"
      ]
     },
     "metadata": {
      "needs_background": "light"
     },
     "output_type": "display_data"
    }
   ],
   "source": [
    "import seaborn as sns\n",
    "fare_bins20 = sns.displot(my_dataframe['Fare'], bins=20)\n",
    "fare_binwidth50 = sns.displot(my_dataframe['Fare'], binwidth=50)"
   ]
  },
  {
   "cell_type": "markdown",
   "id": "44092f7b",
   "metadata": {},
   "source": [
    "---\n",
    "### Exercise 24\n",
    "We don’t yet understand who pays what fares. Using the concept of conditioning from the lectures, we can colour these plots with some categoric variable. In our dataset for the Titanic we have `Pclass` which represents first-class, second-class, and third-class (whatever that means.)\n",
    "\n",
    "Modify your displot calls from above, and this time add `hue=` for the Pclass column.\n",
    " \n",
    "As we can see, most of the tickets paid for near and above the 100 mark, are almost exclusively purchased by first-class passengers. However, the vast majority of tickets sold are low-price, which seem primarily bought by third-class and some second-class passengers.\n",
    "\n",
    "---"
   ]
  },
  {
   "cell_type": "code",
   "execution_count": 37,
   "id": "e2aa630e",
   "metadata": {},
   "outputs": [
    {
     "data": {
      "image/png": "[encoded data removed]",
      "text/plain": [
       "<Figure size 402.375x360 with 1 Axes>"
      ]
     },
     "metadata": {
      "needs_background": "light"
     },
     "output_type": "display_data"
    }
   ],
   "source": [
    "import seaborn as sns\n",
    "fares_plt = sns.displot(data=my_dataframe, x='Fare', hue='Pclass', binwidth=50)"
   ]
  },
  {
   "cell_type": "markdown",
   "id": "699fb232",
   "metadata": {},
   "source": [
    "---\n",
    "### Exercise 25\n",
    "Seaborn has a useful utility function which allows us to load datasets from the library itself, without having to download them and put them somewhere ourselves. Feel free to inspect the dataset you load in here with things we’ve already covered.\n",
    "\n",
    "Useful:  \n",
    "https://seaborn.pydata.org/generated/seaborn.get_dataset_names.html#seaborn.get_dataset_names\n",
    "\n",
    "1.\tCall the function `sns.get_dataset_names()` to obtain a list of valid datasets which Seaborn knows about.\n",
    "2.\tChoose a Dataset you’re interested in.\n",
    "3.\tCall `sns.load_dataset()` passing it the string for the dataset you're interested in.\n",
    "\n",
    "E.g. I’ll choose the Tips dataset about restaurants in America, and the tipping culture.\n",
    " \n",
    "```\n",
    "print( sns.get_dataset_names() )\n",
    "```\n",
    "> ['anagrams', 'anscombe', 'attention', 'brain_networks', 'car_crashes', 'diamonds', 'dots', 'exercise', 'flights', 'fmri', 'gammas', 'geyser', 'iris', 'mpg', 'penguins', 'planets', 'tips', 'titanic'] \n",
    "```\n",
    "total_bill\ttip\tsex\tsmoker\tday\ttime\tsize\n",
    "0\t16.99\t1.01\tFemale\tNo\tSun\tDinner\t2\n",
    "1\t10.34\t1.66\t  Male\tNo\tSun\tDinner\t3\n",
    "2\t21.01\t3.50\t  Male\tNo\tSun\tDinner\t3\n",
    "3\t23.68\t3.31\t  Male\tNo\tSun\tDinner\t2\n",
    "4\t24.59\t3.61\tFemale\tNo\tSun\tDinner\t4\n",
    "...\t...\t...\t...\t...\t...\t...\t...\n",
    "239\t29.03\t5.92\t  Male\tNo\tSat\tDinner\t3\n",
    "240\t27.18\t2.00\tFemale Yes\tSat\tDinner\t2\n",
    "241\t22.67\t2.00\t  Male Yes\tSat\tDinner\t2\n",
    "242\t17.82\t1.75\t  Male\tNo\tSat\tDinner\t2\n",
    "243\t18.78\t3.00\tFemale\tNo\tThur\tDinner\t2\n",
    "244 rows × 7 columns\n",
    "```\n",
    "\n",
    "---"
   ]
  },
  {
   "cell_type": "code",
   "execution_count": 31,
   "id": "47f8da21",
   "metadata": {},
   "outputs": [
    {
     "name": "stdout",
     "output_type": "stream",
     "text": [
      "['anagrams', 'anscombe', 'attention', 'brain_networks', 'car_crashes', 'diamonds', 'dots', 'exercise', 'flights', 'fmri', 'gammas', 'geyser', 'iris', 'mpg', 'penguins', 'planets', 'taxis', 'tips', 'titanic']\n"
     ]
    },
    {
     "data": {
      "text/html": [
       "<div>\n",
       "<style scoped>\n",
       "    .dataframe tbody tr th:only-of-type {\n",
       "        vertical-align: middle;\n",
       "    }\n",
       "\n",
       "    .dataframe tbody tr th {\n",
       "        vertical-align: top;\n",
       "    }\n",
       "\n",
       "    .dataframe thead th {\n",
       "        text-align: right;\n",
       "    }\n",
       "</style>\n",
       "<table border=\"1\" class=\"dataframe\">\n",
       "  <thead>\n",
       "    <tr style=\"text-align: right;\">\n",
       "      <th></th>\n",
       "      <th>total_bill</th>\n",
       "      <th>tip</th>\n",
       "      <th>sex</th>\n",
       "      <th>smoker</th>\n",
       "      <th>day</th>\n",
       "      <th>time</th>\n",
       "      <th>size</th>\n",
       "    </tr>\n",
       "  </thead>\n",
       "  <tbody>\n",
       "    <tr>\n",
       "      <th>0</th>\n",
       "      <td>16.99</td>\n",
       "      <td>1.01</td>\n",
       "      <td>Female</td>\n",
       "      <td>No</td>\n",
       "      <td>Sun</td>\n",
       "      <td>Dinner</td>\n",
       "      <td>2</td>\n",
       "    </tr>\n",
       "    <tr>\n",
       "      <th>1</th>\n",
       "      <td>10.34</td>\n",
       "      <td>1.66</td>\n",
       "      <td>Male</td>\n",
       "      <td>No</td>\n",
       "      <td>Sun</td>\n",
       "      <td>Dinner</td>\n",
       "      <td>3</td>\n",
       "    </tr>\n",
       "    <tr>\n",
       "      <th>2</th>\n",
       "      <td>21.01</td>\n",
       "      <td>3.50</td>\n",
       "      <td>Male</td>\n",
       "      <td>No</td>\n",
       "      <td>Sun</td>\n",
       "      <td>Dinner</td>\n",
       "      <td>3</td>\n",
       "    </tr>\n",
       "    <tr>\n",
       "      <th>3</th>\n",
       "      <td>23.68</td>\n",
       "      <td>3.31</td>\n",
       "      <td>Male</td>\n",
       "      <td>No</td>\n",
       "      <td>Sun</td>\n",
       "      <td>Dinner</td>\n",
       "      <td>2</td>\n",
       "    </tr>\n",
       "    <tr>\n",
       "      <th>4</th>\n",
       "      <td>24.59</td>\n",
       "      <td>3.61</td>\n",
       "      <td>Female</td>\n",
       "      <td>No</td>\n",
       "      <td>Sun</td>\n",
       "      <td>Dinner</td>\n",
       "      <td>4</td>\n",
       "    </tr>\n",
       "    <tr>\n",
       "      <th>...</th>\n",
       "      <td>...</td>\n",
       "      <td>...</td>\n",
       "      <td>...</td>\n",
       "      <td>...</td>\n",
       "      <td>...</td>\n",
       "      <td>...</td>\n",
       "      <td>...</td>\n",
       "    </tr>\n",
       "    <tr>\n",
       "      <th>239</th>\n",
       "      <td>29.03</td>\n",
       "      <td>5.92</td>\n",
       "      <td>Male</td>\n",
       "      <td>No</td>\n",
       "      <td>Sat</td>\n",
       "      <td>Dinner</td>\n",
       "      <td>3</td>\n",
       "    </tr>\n",
       "    <tr>\n",
       "      <th>240</th>\n",
       "      <td>27.18</td>\n",
       "      <td>2.00</td>\n",
       "      <td>Female</td>\n",
       "      <td>Yes</td>\n",
       "      <td>Sat</td>\n",
       "      <td>Dinner</td>\n",
       "      <td>2</td>\n",
       "    </tr>\n",
       "    <tr>\n",
       "      <th>241</th>\n",
       "      <td>22.67</td>\n",
       "      <td>2.00</td>\n",
       "      <td>Male</td>\n",
       "      <td>Yes</td>\n",
       "      <td>Sat</td>\n",
       "      <td>Dinner</td>\n",
       "      <td>2</td>\n",
       "    </tr>\n",
       "    <tr>\n",
       "      <th>242</th>\n",
       "      <td>17.82</td>\n",
       "      <td>1.75</td>\n",
       "      <td>Male</td>\n",
       "      <td>No</td>\n",
       "      <td>Sat</td>\n",
       "      <td>Dinner</td>\n",
       "      <td>2</td>\n",
       "    </tr>\n",
       "    <tr>\n",
       "      <th>243</th>\n",
       "      <td>18.78</td>\n",
       "      <td>3.00</td>\n",
       "      <td>Female</td>\n",
       "      <td>No</td>\n",
       "      <td>Thur</td>\n",
       "      <td>Dinner</td>\n",
       "      <td>2</td>\n",
       "    </tr>\n",
       "  </tbody>\n",
       "</table>\n",
       "<p>244 rows × 7 columns</p>\n",
       "</div>"
      ],
      "text/plain": [
       "     total_bill   tip     sex smoker   day    time  size\n",
       "0         16.99  1.01  Female     No   Sun  Dinner     2\n",
       "1         10.34  1.66    Male     No   Sun  Dinner     3\n",
       "2         21.01  3.50    Male     No   Sun  Dinner     3\n",
       "3         23.68  3.31    Male     No   Sun  Dinner     2\n",
       "4         24.59  3.61  Female     No   Sun  Dinner     4\n",
       "..          ...   ...     ...    ...   ...     ...   ...\n",
       "239       29.03  5.92    Male     No   Sat  Dinner     3\n",
       "240       27.18  2.00  Female    Yes   Sat  Dinner     2\n",
       "241       22.67  2.00    Male    Yes   Sat  Dinner     2\n",
       "242       17.82  1.75    Male     No   Sat  Dinner     2\n",
       "243       18.78  3.00  Female     No  Thur  Dinner     2\n",
       "\n",
       "[244 rows x 7 columns]"
      ]
     },
     "execution_count": 31,
     "metadata": {},
     "output_type": "execute_result"
    }
   ],
   "source": [
    "import seaborn as sns\n",
    "print( sns.get_dataset_names() )\n",
    "sns.load_dataset('tips')"
   ]
  },
  {
   "cell_type": "markdown",
   "id": "581f4a5c",
   "metadata": {},
   "source": [
    "---\n",
    "### Exercise 26\n",
    "Using relplot, plot the `total_bill` against the tip, conditioned on whether the meal was on a Thursday, Friday, Saturday, or Sunday. \n",
    "1.\tAssign a variable to the output of this plot (the handle). We’ll use this later.\n",
    "\n",
    "Hint: There’s a column for this already!\n",
    "\n",
    " \n",
    "---"
   ]
  },
  {
   "cell_type": "code",
   "execution_count": 34,
   "id": "5f3c1908",
   "metadata": {},
   "outputs": [
    {
     "data": {
      "image/png": "[encoded data removed]",
      "text/plain": [
       "<Figure size 360x360 with 1 Axes>"
      ]
     },
     "metadata": {
      "needs_background": "light"
     },
     "output_type": "display_data"
    }
   ],
   "source": [
    "import seaborn as sns\n",
    "tips_ds = sns.load_dataset('tips')\n",
    "the_handle = sns.relplot(data=tips_ds, x='total_bill', y='tip')"
   ]
  },
  {
   "cell_type": "markdown",
   "id": "73c9a3e0",
   "metadata": {},
   "source": [
    "---\n",
    "### Exercise 27\n",
    "With Seaborn, and the handle to the FacetGrid we have the ability to modify the various aspects about the plot. The most useful might be the names of the axes, a potential title for the figure, and the legend (sometimes it’s in a bad spot).\n",
    "\n",
    "Warning: These are valid for FacetGrid objects only. Therefore, they need to be using those high-level plotting functions, <u>relplot</u>, <u>displot</u>, and <u>catplot</u>.\n",
    "\n",
    "The issue is that if we try to update the plot after it’s drawn, we can’t go back.\n",
    "\n",
    "We can use a Jupyter Notebook magic command to dynamically update the plot when changes happen.\n",
    "```\n",
    "%matplotlib inline\n",
    "t_plt = sns.relplot(data=tips_ds, x='total_bill', y='tip', hue='day')\n",
    "t_plt.set_axis_labels(\"Total Meal Cost ($)\", \"Total Tip ($)\")\n",
    "```\n",
    "`%matplotlib inline` tells Jupyter and Seaborn how to display this nicely.\n",
    "Secondly, we can call the function `set_axis_labels`, passing in custom strings to use. Previously it used the variable name, which might not be the nicest.\n",
    "\n",
    "Alternatively, we could use `set_xlabels`, and `set_ylabels` if we wanted to.\n",
    "\n",
    "---"
   ]
  },
  {
   "cell_type": "code",
   "execution_count": 35,
   "id": "c0057e4d",
   "metadata": {},
   "outputs": [
    {
     "data": {
      "text/plain": [
       "<seaborn.axisgrid.FacetGrid at 0x1b733d0>"
      ]
     },
     "execution_count": 35,
     "metadata": {},
     "output_type": "execute_result"
    },
    {
     "data": {
      "image/png": "[encoded data removed]",
      "text/plain": [
       "<Figure size 418.875x360 with 1 Axes>"
      ]
     },
     "metadata": {
      "needs_background": "light"
     },
     "output_type": "display_data"
    }
   ],
   "source": [
    "import seaborn as sns\n",
    "%matplotlib inline\n",
    "the_handle = sns.relplot(data=tips_ds, x='total_bill', y='tip', hue='day')\n",
    "the_handle.set_axis_labels(\"Total Meal Cost ($)\", \"Total Tip ($)\")"
   ]
  },
  {
   "cell_type": "markdown",
   "id": "f6e40c7e",
   "metadata": {},
   "source": [
    "---\n",
    "## Saving Figures out.\n",
    "As we saw in the Lecture, any visualisation which is shown in the Jupyter Notebook can be saved programmatically. This is useful if you were to do many plots and wanted to output them all in a folder.\n",
    "\n",
    "As we saw, the savefig function is a figure-level method (defined on FacetGrid objects). So any of the big boxes (relplot, displot, catplot) will provide these easily for you.\n",
    "\n",
    "---\n",
    "### Exercise 28\n",
    "Save the `t_plt` figure we created in Ex 27. Call `savefig`, and provide a file location, and filename to save it.\n",
    "\n",
    "E.g.\n",
    "```\n",
    "t_plt.savefig('./tipping.png')\n",
    "```\n",
    "Open up the image in an image viewer, and check that everything is as expected. The data points, the conditioning, and the axis labels.\n",
    "\n",
    "---"
   ]
  },
  {
   "cell_type": "code",
   "execution_count": 36,
   "id": "bd658804",
   "metadata": {},
   "outputs": [],
   "source": [
    "the_handle.savefig('output.png')"
   ]
  },
  {
   "cell_type": "markdown",
   "id": "41f4782d",
   "metadata": {},
   "source": [
    "---\n",
    "### Exercise 29\n",
    "If we wanted to save many plots, but all in one place, we might want to use a data structure which can hold names against objects. This sounds like a Dictionary.\n",
    "\n",
    "Create a dictionary where each key is the filename, and the value at that key is a handle to a figure.\n",
    "\n",
    "E.g.\n",
    "```\n",
    "figures_to_save = {}\n",
    "figures_to_save[\"./tipping.png\"] = t_plt\n",
    "figures_to_save[\"./fares_univariate.png\"] = fares_plt\n",
    "# Etc. Do this for all the plots we've done so far!\n",
    "# You'll need handles to the,, go and change the code to add some.\n",
    "```\n",
    "\n",
    "---"
   ]
  },
  {
   "cell_type": "code",
   "execution_count": 39,
   "id": "adf6ea76",
   "metadata": {},
   "outputs": [],
   "source": [
    "figures_to_save = {}\n",
    "figures_to_save[\"fares_univariate.png\"] = fares_plt\n",
    "figures_to_save[\"fares_binwidth50.png\"]= fare_binwidth50\n",
    "figures_to_save[\"fares_bin20.png\"]= fare_binwidth50"
   ]
  },
  {
   "cell_type": "markdown",
   "id": "eb32c1e3",
   "metadata": {},
   "source": [
    "---\n",
    "### Exercise 30\n",
    "Using this dictionary, iterate over it, and call `savefig` on each value, passing it the key as the file path.\n",
    "\n",
    "---"
   ]
  },
  {
   "cell_type": "code",
   "execution_count": 42,
   "id": "2f10f775",
   "metadata": {},
   "outputs": [
    {
     "ename": "AttributeError",
     "evalue": "'str' object has no attribute 'savefig'",
     "output_type": "error",
     "traceback": [
      "\u001b[1;31m---------------------------------------------------------------------------\u001b[0m",
      "\u001b[1;31mAttributeError\u001b[0m                            Traceback (most recent call last)",
      "\u001b[1;32m<ipython-input-42-fecf2d32d864>\u001b[0m in \u001b[0;36m<module>\u001b[1;34m\u001b[0m\n\u001b[0;32m      1\u001b[0m \u001b[1;32mfor\u001b[0m \u001b[0mx\u001b[0m \u001b[1;32min\u001b[0m \u001b[0mfigures_to_save\u001b[0m\u001b[1;33m:\u001b[0m\u001b[1;33m\u001b[0m\u001b[1;33m\u001b[0m\u001b[0m\n\u001b[1;32m----> 2\u001b[1;33m    \u001b[0mx\u001b[0m\u001b[1;33m.\u001b[0m\u001b[0msavefig\u001b[0m\u001b[1;33m(\u001b[0m\u001b[0mfigures_to_save\u001b[0m\u001b[1;33m[\u001b[0m\u001b[0mx\u001b[0m\u001b[1;33m]\u001b[0m\u001b[1;33m)\u001b[0m\u001b[1;33m\u001b[0m\u001b[1;33m\u001b[0m\u001b[0m\n\u001b[0m",
      "\u001b[1;31mAttributeError\u001b[0m: 'str' object has no attribute 'savefig'"
     ]
    }
   ],
   "source": [
    "for x in figures_to_save:\n",
    "   x.savefig(figures_to_save[x])"
   ]
  },
  {
   "cell_type": "markdown",
   "id": "78e8da56",
   "metadata": {},
   "source": [
    "---\n",
    "## You Must be Quackers\n",
    "### Exercise 31\n",
    "\n",
    "Let’s revisit the ducks. From Ex2 we should have loaded in some ducks (I called my List of them ducks). At the moment we have a problem. Our ducks don’t have any ages! Let’s resolve that.\n",
    "\n",
    "The usual format us humans like to use for date of birth is DD/MM/YYYY. E.g 30 / 10 / 1979\n",
    "\n",
    "1.\tGenerate random numbers for day, month, and year. Remember that they have bounds. I.e. You cannot possibly have Day 736. Or Month 13. Or Year 2021 (at least as far as DOB is concerned.\n",
    "    a.\tHow might you handle the fact that some months have more days than others? Maybe consider generating the month first, then using some conditionals?\n",
    "    ```\n",
    "    if mm in [ 9, 4 6, 11 ]:\n",
    "    ```\n",
    "    b.\tIs zero a valid day?\n",
    "    c.\tIf you want to go crazy and consider leap years, you are welcome to\n",
    "\n",
    "2.\tPut these into a List, in order of day, month, year.\n",
    "3.\tUse the following string methods for joining to combine them into a convenient DOB format.\n",
    "\n",
    "In Python we have two string methods which are particularly useful when breaking down, or building up strings. These are `.split()` and `.join()`\n",
    "\n",
    "We can make a string, whereby a phrase or character are put between each element of our iterable (List). However, make sure the List has strings in it! It won’t cast by default.\n",
    "\n",
    "E.g.\n",
    "```\n",
    "print( \"-\".join( [ \"1\", \"2\", \"3\", \"4\", \"5\", \"6\" ] ) )\n",
    "\n",
    "print( \"mississippi\".join( [ \"1\", \"2\", \"3\", \"4\", \"5\", \"6\" ] ) )\n",
    "```\n",
    "> 1-2-3-4-5-6  \n",
    "1mississippi2mississippi3mississippi4mississippi5mississippi6\n",
    "\n",
    "If we print the now randomised birthday of each duck, the List we made looks something like:\n",
    "\n",
    "> [31, 7, 1982]  \n",
    "[2, 10, 1946]\n",
    "[4, 12, 1971]\n",
    "\n",
    "If we now use these with our .join approach, to put the ‘/’ between.\n",
    "```\n",
    "print( \"/\".join([str(dd), str(mm), str(yyyy)]) ) # This could also be assigned to a variable don't forget!\n",
    "``` \n",
    "> 31/7/1982    \n",
    "2/10/1946  \n",
    "4/12/1971\n",
    "\n",
    "This doesn’t look right. We want the days and months to be padded appropriately. E.g 2 -> 02.\n",
    "\n",
    "Luckily, the f-strings we were dealing with earlier can help us out here.\n",
    "```\n",
    "dd = f\"{dd:02d}\"\n",
    "mm = f\"{mm:02d}\"\n",
    "```\n",
    "This should now mean that everything is at least 2 digits, and will pad them if not.\n",
    "\n",
    "> 31/07/1982    \n",
    "02/10/1946  \n",
    "04/12/1971\n",
    "\n",
    "4.\tThe result of each line is a string in itself. Assign this to a “dob” key on the individual duck. The DOB calculation could be a function which does it all for you and returns a string in the right format.\n",
    "```\n",
    "for d in ducks:\n",
    "\t# Calculate DOB HERE. Lots of lines.\n",
    "\td[\"dob\"] = dob_value\n",
    "```\n",
    "\n",
    "---"
   ]
  },
  {
   "cell_type": "code",
   "execution_count": null,
   "id": "08325263",
   "metadata": {},
   "outputs": [],
   "source": []
  },
  {
   "cell_type": "markdown",
   "id": "ae95be72",
   "metadata": {},
   "source": [
    "---\n",
    "### Exercise 32\n",
    "\n",
    "What if we’re given a date and asked to break it back down. 02/10/1946 is obviously not a number. We can use `.split()` here.\n",
    "```\n",
    "breakdown = \"02/10/1946\".split('/') # Split the string (could be a variable), based on /. Will return a List.\n",
    "```\n",
    "We can access the days with `breakdown[0]`, months with `[1]`, and years with `[2]`. If we try to cast the day into an integer it hopefully should covert 02 -> 2 for us.\n",
    "\n",
    "1.\tRead through each Duck again\n",
    "2.\tGrab the new key you just added, for the dob.\n",
    "3.\tSplit this dob based on ‘/’\n",
    "4.\tFor day and month convert them to `int` and print them.\n",
    "```\n",
    "for d in ducks:\n",
    "  \t \n",
    "\tbreakdown = d['dob'].split('/')\n",
    "\tdd = int( breakdown[0] )\n",
    "\tmm = int( breakdown[1] )\n",
    "\tyyyy = int( breakdown[2] )\n",
    "    \n",
    "\tprint(dd, mm, yyyy)\n",
    "```\n",
    "5.\tCalculate how old each duck will be today.  \n",
    "\n",
    " E.g. You could do 2020 - yyyy; however, that could be off by ± 11months and 30 days! Imagine if the duck was only born this year, it would be 0 years old. But we might want to celebrate it’s first month.  \n",
    " \n",
    "  Your calculation will have to double check how many months it has been as well as days.  \n",
    "\n",
    "  Hint: What if doing current month - duck dob month is a negative number? How do we need to handle this?\n",
    "\n",
    "Example:\n",
    "\n",
    "31 / 07 / 1982 would be:\n",
    "\n",
    "    -\t2020 - 1982 = 38 years\n",
    "    -\t10 - 07 = 3 months\n",
    "    -\t23 - 31 = -8 days.\n",
    "\n",
    "Only by looking at months could we definitely say it’s been 38 years. E.g. If we had negative months, then we’ve not actually completed a full year yet! Similarly, we look at days when determining if we’ve completed full months. In this case, we’re 8 days shy of hitting 3 months.\n",
    "\n",
    "---"
   ]
  },
  {
   "cell_type": "code",
   "execution_count": null,
   "id": "bcb9f085",
   "metadata": {},
   "outputs": [],
   "source": []
  }
 ],
 "metadata": {
  "kernelspec": {
   "display_name": "Python 3",
   "language": "python",
   "name": "python3"
  },
  "language_info": {
   "codemirror_mode": {
    "name": "ipython",
    "version": 3
   },
   "file_extension": ".py",
   "mimetype": "text/x-python",
   "name": "python",
   "nbconvert_exporter": "python",
   "pygments_lexer": "ipython3",
   "version": "3.9.5"
  }
 },
 "nbformat": 4,
 "nbformat_minor": 5
}
