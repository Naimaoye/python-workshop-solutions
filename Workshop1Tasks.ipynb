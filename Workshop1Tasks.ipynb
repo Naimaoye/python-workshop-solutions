{
 "cells": [
  {
   "cell_type": "markdown",
   "id": "91fad5a6",
   "metadata": {},
   "source": [
    "# Programming for AI & Data Science\n",
    "# Workshop 1\n",
    "\n",
    "## Jupyter Notebook and PIPenvironment\n",
    "\n",
    "-----\n",
    "# Prog AI & DS Workshop 1\n",
    "## Student ID: 668218\n",
    "\n",
    "### Aims of the workshop\n",
    "\n",
    "The aim of this session is to introduce you to the Python Interpreter and Jupyter Notebook environment, which we’ve briefly seen this week. This workshop will serve as an introductionto Python, putting into practice all that we’ve covered this week. It is important to take time to understand these basic concepts, and explore what they can do. \n",
    "\n",
    "Please see ‘Useful Information’ below on how to lookup certain Python functionality. The concept behind this workshop is about discovery, and experimentation surrounding topics covered so far. \n",
    "\n",
    "Feel free to discuss the work with peers, or with any member of the teaching staff.\n",
    "\n",
    "----\n",
    "\n",
    "### Useful Information\n",
    "\n",
    "Throughout this workshop you may find the following useful.\n",
    "\n",
    "Python Documentation\n",
    "\n",
    "https://docs.python.org/3.8/\n",
    "\n",
    "This allows you to lookup core language features of Python 3.8 as well as tangential information about the Python Language. \n",
    "\n",
    "### Jupyter Notebook Basics\n",
    "\n",
    "Jupyter itself offers some basic documentation for people new to the editor. These can be found on \n",
    "\n",
    "https://jupyter-notebook.readthedocs.io/en/stable/examples/Notebook/Notebook%20Basics.html \n",
    "\n",
    "Jupyter can also use markdown cells for text input to describethings. If you wish to annotate each cell as to which Exercise it belongs to, you may find this useful:\n",
    "\n",
    "https://jupyter-notebook.readthedocs.io/en/stable/examples/Notebook/Working%20With%20Markdown%20Cells.html\n",
    "\n",
    "----\n",
    "\n",
    "### Reminder\n",
    "\n",
    "We encourage you to discuss the contents of the workshop with the delivery team, and anyfindings you gather from the session.\n",
    "\n",
    "Workshops are not isolated, if you have questions from previous weeks, or lecture content, please come and talk to us.\n",
    "\n",
    "The contents of this workshop are ​not​ intended to be 100% complete within the session; as such it’s expected that some of this work be completed outside of the session. \n",
    "\n",
    "Exercises herein represent an example of what to do; feel free to expand upon this."
   ]
  },
  {
   "cell_type": "markdown",
   "id": "4cc4b8d6",
   "metadata": {},
   "source": [
    "## Running A Jupyter/IPython Notebook\n",
    "\n",
    "Instructions showing Jupyter Notebook installation, is available on Canvas under.\n",
    "\n",
    "A Jupyter notebook is a server which runs on the local machine. It will use whichever directory it is invoked within as the root folder. It is then able to see all sub-folders within that. This is currently installed on the lab machines; however, if you are wishing to install this at home, you may need to follow pip instructions for installing jupyter. \n",
    "\n",
    "Jupyter Notebook can be launched from the command line by invoking:\n",
    "\n",
    "    jupyter notebook\n",
    "\n",
    "This will start a server, typically on ​http://localhost:8888/tree​, and should automatically open a new tab in the browser.\n",
    "\n",
    "Jupyter notebook server uses a token, generated at launch, to authenticate access. By default, the notebook server is accessible to anybody with network access to your machine over the port, with the correct token.\n",
    "\n",
    "If you are asked for a password or token, you can always invoke:\n",
    "\n",
    "    jupyter notebook list\n",
    "    \n",
    " This will provide you a list of currently active Notebook servers (you can run multiple, on different ports, for different folders), along with their token, all within a single URL.\n",
    " \n",
    "### PIP and packages\n",
    " \n",
    " PIP is python’s packaging tool, it enables the installation of libraries. If you tried to import pandas when starting your notebook, you may have noticed that it gives you an error. This is because, by default, pandas is not installed within the super lab.\n",
    " \n",
    " Python has a rich community backing, with several libraries available over at PyPI which users can install. Users can even make their own libraries and host them online for others to use.\n",
    " \n",
    " If you require to install python packages within the Fenner Labs​, the image we have is not an administrator. Therefore installing packages to the system level is not permitted. However, pip provides a --user flag for installing packages to the user-profile instead.\n",
    " \n",
    " Most packages can be installed by using\n",
    " \n",
    "     pip install packageName\n",
    " \n",
    " Remember, you can always use `pip help install` for specific help information on installing."
   ]
  },
  {
   "cell_type": "markdown",
   "id": "f4d6d2dd",
   "metadata": {},
   "source": [
    "# Using the Python Interpreter\n",
    "\n",
    "Remember, you can launch the interpreter by opening a command prompt and typing\n",
    "\n",
    "    python\n",
    "    \n",
    "### Exercise 1: \n",
    "\n",
    "When prompted, type print(“Hello World!”) this should enter ​Hello World!​ On the line immediately afterwards. This is the output of the expression:\n",
    "\n",
    "```\n",
    "C:\\Users\\Brian>python  \n",
    "Python 3.8.10 (tags/v3.8.10:3d8993a, May  3 2021, 11:48:03) [MSC v.1928 64 bit (\n",
    "AMD64)] on win32  \n",
    "Type \"help\", \"copyright\", \"credits\" or \"license\" for more information.  \n",
    ">>> print(\"Hello World!\")  \n",
    "Hello World!  \n",
    ">>>  \n",
    "```\n",
    "\n",
    "Congratulations! You’ve just run your first Python command.\n",
    "\n",
    "\n",
    "\n",
    "Paste the results in the cell below, if you are keeping this Jupyter  notebook as a record of your work. You should also put the results into the Canvas quiz as a record of completion."
   ]
  },
  {
   "cell_type": "markdown",
   "id": "eccde04d",
   "metadata": {},
   "source": [
    "----\n",
    "\n",
    "----"
   ]
  },
  {
   "cell_type": "markdown",
   "id": "0f072f90",
   "metadata": {},
   "source": [
    "### Exercise 2:\n",
    "\n",
    "We can use `type()` to check the type of any value. We simply provide the value to type, between the parentheses. \n",
    "\n",
    "E.g. `type(932)` \n",
    "Try this in the interpreter? What do you get out?\n",
    "\n",
    "Hint: We don’t need print in this case with the interpreter, because it is outputting it for us. If we executed this code in a `.py` file, this would not be the case. Any expressions which have a value will be spit back to us.\n",
    "\n",
    "Using your knowledge of the other basic types we introduced, check some examples of these values with `type()`."
   ]
  },
  {
   "cell_type": "markdown",
   "id": "18727dca",
   "metadata": {},
   "source": [
    "----\n",
    "\n",
    "----"
   ]
  },
  {
   "cell_type": "markdown",
   "id": "6904a793",
   "metadata": {},
   "source": [
    "### Exercise 3:\n",
    "\n",
    "We covered casting a value from one type to another. An example of this might be treating the integer 932 as a float.\n",
    "\n",
    "1. Write an expression which casts 932 to the type string (shortened to str)\n",
    "2. Verify the type output from the step above. Hint: We don’t need to use any variables yet. Remember, `type()` can take any expression which provides a value."
   ]
  },
  {
   "cell_type": "markdown",
   "id": "b893c059",
   "metadata": {},
   "source": [
    "----\n",
    "\n",
    "----"
   ]
  },
  {
   "cell_type": "markdown",
   "id": "fab08416",
   "metadata": {},
   "source": [
    "### Exercise 4:\n",
    "\n",
    "For the following expressions, what are the types of the two inputs values, and what is the type of the result of executing the expression. Try to answer these first without writing code, then write some Python to verify if you are correct.\n",
    "\n",
    "1. 3 + 4\n",
    "2. 3.0 + 4\n",
    "3. 37 % 7 ** 2\n",
    "4. ‘bob’ + ‘cat’\n",
    "5. “bob” / “cat”\n",
    "6. “banana” + “na” * 20\n",
    "\n",
    "Do any of these combinations surprise you?\n",
    "Try other operators which you know, and some other data types."
   ]
  },
  {
   "cell_type": "markdown",
   "id": "89700016",
   "metadata": {},
   "source": [
    "----\n",
    "\n",
    "----"
   ]
  },
  {
   "cell_type": "markdown",
   "id": "579f7fd5",
   "metadata": {},
   "source": [
    "### Exercise 5:\n",
    "\n",
    "You are given the following mathematical expression\n",
    "\n",
    "    12 + 28 / 7 * 2 \n",
    "    \n",
    "Using your understanding of PEMDAS:\n",
    "\n",
    "1. What would be the result of such an expression? Which numbers are calculated together first\n",
    "2. What would be the overall type of the result?\n",
    "3. How might we use parentheses to make this expression less ambiguous?  Remember, the expression must still return the same value!"
   ]
  },
  {
   "cell_type": "markdown",
   "id": "8323da7a",
   "metadata": {},
   "source": [
    "----\n",
    "\n",
    "----"
   ]
  },
  {
   "cell_type": "markdown",
   "id": "d5257394",
   "metadata": {},
   "source": [
    "### Exercise 6:\n",
    "\n",
    "Create some variables (name of your choosing) to store the values 42.0 and 97.\n",
    "\n",
    "1. Calculate addition, subtraction, divide, and multiply operators on these. (E.g a * b)\n",
    "2. Using the expressions from above, create a new variable which is assigned thatexpression. (E.g `product = a * b`). Do this for all your variants.\n",
    "3. Print your new variables. (E.g `print( product )`)"
   ]
  },
  {
   "cell_type": "markdown",
   "id": "0efd0953",
   "metadata": {},
   "source": [
    "----\n",
    "\n",
    "----"
   ]
  },
  {
   "cell_type": "markdown",
   "id": "64760c37",
   "metadata": {},
   "source": [
    "### Exercise 7:\n",
    "\n",
    "Pick your favourite expression from Ex 4. Take any variable from Ex6 which you made (E.g `product`), and re-bind this to your favourite Ex4 expression (E.g `= 37 % 7 ** 2`). Print the new value of your Ex6 variable (E.g. `print(product)` again); observe the change in value from the end of Ex6."
   ]
  },
  {
   "cell_type": "markdown",
   "id": "f9caa8bc",
   "metadata": {},
   "source": [
    "----\n",
    "\n",
    "----"
   ]
  },
  {
   "cell_type": "markdown",
   "id": "ecc14cc5",
   "metadata": {},
   "source": [
    "## Using the Jupyter Notebook\n",
    "\n",
    "### Exercise 8:\n",
    "\n",
    "If you have not done so already, Launch a Jupyter Notebook, and explore the interface and controls. Look at the useful information section above under Jupyter Notebook Basics. Try executing the python exercises above in Jupyter Cells added to the notebook, and noting their output. It is recommended that you make a fresh notebook for each workshop we run if you are not using  the provided notebook. This way you can reference back previous works. Each exercise should be able to be placed in its own cell as it is here."
   ]
  },
  {
   "cell_type": "markdown",
   "id": "694a9fe2",
   "metadata": {},
   "source": [
    "## Exercise 9:\n",
    "\n",
    "Add a Markdown cell as the first cell at the top of the book to indicate your student information. Enter the following, filling in your student ID in place of <StudentID>:\n",
    "    \n",
    "    # Prog AI & DS Workshop 1\n",
    "    ## Student ID: <StudentID>\n",
    "    \n",
    " Use Shift+Enter, to execute this markdown cell and force it to display."
   ]
  },
  {
   "cell_type": "markdown",
   "id": "e0584957",
   "metadata": {},
   "source": [
    "### Exercise 10:\n",
    "\n",
    "We can use comparison operators on strings, just as numbers. However, these have some different behaviours. Comparing two strings “ada”, and “bill” will check the first letter of each and will use alphabetical ordering to determine which one is ‘first’ (i.e. Lower than the latter).\n",
    "\n",
    "- In the fresh cell below, try executing “ada” < “bill” \n",
    "\n",
    "If the first letter is the same in both, it will then check the second letter to make the outcome. If the second letter is also the same, it will keep progressing until out of letters.\n",
    "\n",
    "- Compare “ada” with “adb” \n",
    "\n",
    "If the two words have different lengths, but otherwise are identical as we go along, python will favour the shorter of the two strings.\n",
    "\n",
    "- E.g. “ada” < “adalovelace” -> True"
   ]
  },
  {
   "cell_type": "code",
   "execution_count": 1,
   "id": "9ce8d3e4",
   "metadata": {},
   "outputs": [
    {
     "data": {
      "text/plain": [
       "True"
      ]
     },
     "execution_count": 1,
     "metadata": {},
     "output_type": "execute_result"
    }
   ],
   "source": [
    "\"ada\" < \"bill\""
   ]
  },
  {
   "cell_type": "markdown",
   "id": "07596bde",
   "metadata": {},
   "source": [
    "### Exercise 11:\n",
    "\n",
    "Using `input()` ask the user to input a name. Let’s check if the name is equal to your name using an equality test!\n",
    "\n",
    "E.g.\n",
    "```\n",
    "their_name = input(“What is your name?: “)\n",
    "if their_name == “Brian”:\n",
    "    print(“I’m called that too”)\n",
    "```    "
   ]
  },
  {
   "cell_type": "code",
   "execution_count": null,
   "id": "22902851",
   "metadata": {},
   "outputs": [],
   "source": [
    "the_name = input(\"what is your name?: \")\n",
    "if the_name == \"Naimah\":\n",
    "    print(\"Thats my name\")"
   ]
  },
  {
   "cell_type": "markdown",
   "id": "08323585",
   "metadata": {},
   "source": [
    "### Exercise 12:\n",
    "\n",
    "Remember that we can perform logical operations on entire boolean expressions themselves. Modify the boolean expression in Ex11 to also accept if they enter your last name too!\n",
    "\n",
    "E.g.\n",
    "```\n",
    "their_name = input(“What is your name?: “)\n",
    "if their_name == “Brian” or their_name == “Tompsett”:\n",
    "    print(“I’m called that too”)\n",
    "```    \n",
    " Test out providing other names, your first name, and your last name to see what the program outputs. Remember you can re-run the same cell that you have selected. Notice how each side of ‘or’ is a boolean expression which evaluates to True/False in itself."
   ]
  },
  {
   "cell_type": "code",
   "execution_count": null,
   "id": "b0aef74a",
   "metadata": {},
   "outputs": [],
   "source": [
    "the_name = input(\"what is your name?: \")\n",
    "if the_name == \"Naimah\" or the_name == \"Oyedoyin\":\n",
    "    print(\"Thats my name\")"
   ]
  },
  {
   "cell_type": "markdown",
   "id": "135e0347",
   "metadata": {},
   "source": [
    "### Exercise 13:\n",
    "\n",
    "Given the following input table, complete the truth table for the following expression:\n",
    "\n",
    "    (a and b) or c\n",
    "\n",
    "|a|b|c|a and b|(a and b) or c|\n",
    "| --- | --- | --- | ------- | ------- |\n",
    "|True|True|True|True|True|\n",
    "|True|False|True|False|False|\n",
    "|False|True|True|False|False|\n",
    "|False|False|True|True|False|\n",
    "|True|True|False|True|True|\n",
    "|True|False|False|False|False|\n",
    "|False|True|False|False|False|\n"
   ]
  },
  {
   "cell_type": "markdown",
   "id": "732943dc",
   "metadata": {},
   "source": [
    "### Exercise 14:\n",
    "\n",
    "You are then told that the expression is incorrect, and should be:\n",
    "\n",
    "     (a and b) or not c\n",
    "     \n",
    "How does this change the overall boolean expression. Add a column to your table, and fill in the results of this new expression."
   ]
  },
  {
   "cell_type": "markdown",
   "id": "7252bd75",
   "metadata": {},
   "source": [
    "### Exercise 15:\n",
    "\n",
    "We can use the expression `x % 2 == 0` to check if a variable is even. Write an `if statement` to check if a given variable is even. It should print out “The variable is even!” if it passes this condition. Remember, modulo provides a remainder. Even numbers can fit 2 into themselves perfectly with nothing left over, hence why we check if the remainder is 0."
   ]
  },
  {
   "cell_type": "code",
   "execution_count": 2,
   "id": "083a6c6f",
   "metadata": {},
   "outputs": [
    {
     "name": "stdout",
     "output_type": "stream",
     "text": [
      "The variable is even\n"
     ]
    }
   ],
   "source": [
    "x = 8\n",
    "if x%2 == 0 :\n",
    "    print(\"The variable is even\")"
   ]
  },
  {
   "cell_type": "markdown",
   "id": "24e94dde",
   "metadata": {},
   "source": [
    "### Exercise 16:\n",
    "\n",
    "How could Ex15 be modified to also print “The variable is odd!” when the variable is odd? Can a variable be anything other than even or odd?"
   ]
  },
  {
   "cell_type": "code",
   "execution_count": 3,
   "id": "2e6d5561",
   "metadata": {},
   "outputs": [
    {
     "name": "stdout",
     "output_type": "stream",
     "text": [
      "variable is odd\n"
     ]
    }
   ],
   "source": [
    "x = 9\n",
    "if x%2 == 0 :\n",
    "    print(\"The variable is even\")\n",
    "else:\n",
    "    print(\"variable is odd\")"
   ]
  },
  {
   "cell_type": "markdown",
   "id": "c854b481",
   "metadata": {},
   "source": [
    "### Exercise 17:\n",
    "\n",
    "Produce some code which first checks if a variable is divisible by 2, then checks if it is divisible by 3, otherwise prints that it is “not divisible by 2 or 3”. Would we use two separate if statements, or a single if, elif statement.\n",
    "\n",
    "To help you decide, consider what should be output if we tested the number 6 through this system."
   ]
  },
  {
   "cell_type": "code",
   "execution_count": 6,
   "id": "4ebd6d6e",
   "metadata": {},
   "outputs": [
    {
     "name": "stdout",
     "output_type": "stream",
     "text": [
      "not divisible by 2 or 3\n"
     ]
    }
   ],
   "source": [
    "x = 11\n",
    "if x%2 == 0 :\n",
    "    print(\"The variable is divisible by 2\")\n",
    "elif x%3 == 0:\n",
    "    print(\"The variable is divisible by 3\")\n",
    "else:\n",
    "    print(\"not divisible by 2 or 3\")"
   ]
  },
  {
   "cell_type": "markdown",
   "id": "be51027c",
   "metadata": {},
   "source": [
    "### Exercise 18:\n",
    "\n",
    "You are given the following list of numbers:\n",
    "```\n",
    "   A = [ 5, 2, 9, -1, 3, 12]\n",
    "```\n",
    "Using the counter method from lectures slides, create a while loop which will go over each item in this list.\n",
    "1. Print each item\n",
    "2. Check if the item is -1, if so, immediately break out of the loop.\n",
    "3. Calculate the square of the element, and print it."
   ]
  },
  {
   "cell_type": "code",
   "execution_count": 6,
   "id": "686de811",
   "metadata": {},
   "outputs": [
    {
     "name": "stdout",
     "output_type": "stream",
     "text": [
      "5\n",
      "2\n",
      "9\n",
      "-1\n"
     ]
    }
   ],
   "source": [
    "i = 0\n",
    "A = [ 5, 2, 9, -1, 3, 12]\n",
    "while(i < len(A)):\n",
    "    print(A[i])\n",
    "    if(A[i] == -1):\n",
    "        break\n",
    "    i += 1"
   ]
  },
  {
   "cell_type": "markdown",
   "id": "d7972cdc",
   "metadata": {},
   "source": [
    "### Exercise 19:\n",
    "\n",
    "Replace the while loop counter method from Ex18 with for loop and range(n)"
   ]
  },
  {
   "cell_type": "code",
   "execution_count": 8,
   "id": "808f8425",
   "metadata": {},
   "outputs": [
    {
     "name": "stdout",
     "output_type": "stream",
     "text": [
      "5\n",
      "2\n",
      "9\n",
      "-1\n",
      "3\n",
      "12\n"
     ]
    }
   ],
   "source": [
    "for i in range(len(A)):\n",
    "    print(A[i])"
   ]
  },
  {
   "cell_type": "markdown",
   "id": "303e8bb1",
   "metadata": {},
   "source": [
    "### Exercise 20:\n",
    "\n",
    "Repeat Ex19, but using the direct iteration version. E.g. No indexing."
   ]
  },
  {
   "cell_type": "code",
   "execution_count": null,
   "id": "0c0d261d",
   "metadata": {},
   "outputs": [],
   "source": []
  },
  {
   "cell_type": "markdown",
   "id": "9a36d259",
   "metadata": {},
   "source": [
    "### Exercise 21:\n",
    "\n",
    "Using the list, A, from Ex18, write a loop which will sum all of the numbers up,and print them."
   ]
  },
  {
   "cell_type": "code",
   "execution_count": 10,
   "id": "aed930bc",
   "metadata": {},
   "outputs": [
    {
     "name": "stdout",
     "output_type": "stream",
     "text": [
      "30\n"
     ]
    }
   ],
   "source": [
    "sum = 0\n",
    "for i in range(len(A)):\n",
    "    sum += A[i]\n",
    "print(sum)"
   ]
  },
  {
   "cell_type": "markdown",
   "id": "7a3c8918",
   "metadata": {},
   "source": [
    "### Exercise 22:\n",
    "\n",
    "The mean number can be calculated by taking the summation and dividing by how many elements were there. Using the output of Ex21 (the summation), create a new variable for the mean number of the list. (E.g. [1, 3, 5] # Sum is 9. Mean is 9 / 3 which is 3.)"
   ]
  },
  {
   "cell_type": "code",
   "execution_count": 2,
   "id": "ebdc5abe",
   "metadata": {},
   "outputs": [
    {
     "name": "stdout",
     "output_type": "stream",
     "text": [
      "5.0\n"
     ]
    }
   ],
   "source": [
    "total = 0\n",
    "A = [ 5, 2, 9, -1, 3, 12]\n",
    "for i in range(len(A)):\n",
    "    total += A[i]\n",
    "print(total / len(A))"
   ]
  },
  {
   "cell_type": "markdown",
   "id": "cebfb10d",
   "metadata": {},
   "source": [
    "### Exercise 23:\n",
    "\n",
    "You are asked to find the minimum, and maximum of a list of numbers. You are provided with code to determine the minimum.\n",
    "\n",
    "```\n",
    "my_items = [ -5, 3, 72, 1, 9, 24, -3]\n",
    "\n",
    "minimum_so_far = None\n",
    "for elem in my_items:\n",
    "    if minimum_so_far == None or elem < minimum_so_far:\n",
    "        minimum_so_far = elem\n",
    "        \n",
    "print(“Minimum Value: “, minimum)\n",
    "```\n",
    "Modify the above program to also calculate the maximum so far, outputting it in a similar way.\n",
    "\n",
    "In this example we used `None` as an initial value as it’s not a number. If the value is None,then we know we haven’t checked anything yet, so our first value is always going to be our highest and lowest!"
   ]
  },
  {
   "cell_type": "code",
   "execution_count": 4,
   "id": "4c996df1",
   "metadata": {},
   "outputs": [
    {
     "name": "stdout",
     "output_type": "stream",
     "text": [
      "minimum value: -5\n"
     ]
    }
   ],
   "source": [
    "items = [ -5, 3, 72, 1, 9, 24, -3]\n",
    "mini = 0\n",
    "for i in items:\n",
    "    if mini == None or i < mini:\n",
    "        mini = i\n",
    "print(\"minimum value:\", mini)"
   ]
  },
  {
   "cell_type": "markdown",
   "id": "e838811e",
   "metadata": {},
   "source": [
    "### Exercise 24:\n",
    "\n",
    "Execute the following:\n",
    "\n",
    "```\n",
    "A = 5\n",
    "B = A\n",
    "B = 10\n",
    "print(A) =>  5\n",
    "print(B) => 10\n",
    "```\n",
    "When we rebind B to be 10, A is left completely unmodified. This behaviour is unique to basic data primitives such as the basic types we have looked at. However, let’s see what happens if we do something similar to a List.\n",
    "```\n",
    "A = [ 1, 6, 2, 7 ]\n",
    "B = A\n",
    "B.remove( 6 )\n",
    "print( A ) => [ 1, 2, 7 ]\n",
    "```\n",
    "This behaviour will hold for Lists, Dicts, and most ‘objects’ in Python. B is a reference to A. We only have one copy of our list floating around, but now we have multiple variables capable of pointing to it. If we wanted to make a copy of the List, such that we can modify them independent of each other we have to `[:]`. E.g.\n",
    "```\n",
    "A = [ 1, 6, 2, 7 ]\n",
    "B = A[:]\n",
    "B.remove( 6 )\n",
    "print( A ) => [ 1, 6, 2, 7 ]\n",
    "print( B ) => [ 1, 2, 7]\n",
    "```\n",
    "This is known as ‘slice’ notation. Effectively `[:]` says to take the entire list, and it makes a copy of this."
   ]
  },
  {
   "cell_type": "code",
   "execution_count": 15,
   "id": "ec8df11d",
   "metadata": {},
   "outputs": [
    {
     "name": "stdout",
     "output_type": "stream",
     "text": [
      "[1, 6, 2, 7] [1, 6, 2]\n"
     ]
    }
   ],
   "source": [
    "A = [1, 6, 2, 7]\n",
    "B = A[:]\n",
    "B.remove(7)\n",
    "print(A, B)"
   ]
  },
  {
   "cell_type": "markdown",
   "id": "fd0fa5c4",
   "metadata": {},
   "source": [
    "### Exercise 25:\n",
    "\n",
    "Using B (your copy of A), ​append​ some of your favourite numbers to the list."
   ]
  },
  {
   "cell_type": "code",
   "execution_count": 5,
   "id": "151d30c4",
   "metadata": {},
   "outputs": [
    {
     "name": "stdout",
     "output_type": "stream",
     "text": [
      "[1, 6, 2, 7, 10]\n"
     ]
    }
   ],
   "source": [
    "A = [1, 6, 2, 7]\n",
    "B = A[:]\n",
    "B.append(10)\n",
    "print(B)"
   ]
  },
  {
   "cell_type": "markdown",
   "id": "e8c99def",
   "metadata": {},
   "source": [
    "### Exercise 26:\n",
    "\n",
    "You are given the following to complete:\n",
    "```\n",
    "results = []\n",
    "bought_cost = [ 10.0, 12.55, 17.99 ] # Price you pay to the manufacturer for an item \n",
    "sale_price = [ 12.0, 11.50, 20.0 ] # Price you sell it for\n",
    "\n",
    "for i in range( len(item_cost) ):\n",
    "    <Calculate the difference between sale_price and bought_cost>\n",
    "    <Add these to the empty list, results>\n",
    "    \n",
    "print(results)\n",
    "\n",
    "<Calculate and print the total profit/loss overall>\n",
    "```    \n",
    "`Note:` Take care when calculating whether we made a loss, or a profit on our sale!\n",
    "    \n",
    "_Adv Hint: There is such a function called zip, which can help iterate over two lists at once, should you wish to look this up. It is left out of here as to not overwhelm._"
   ]
  },
  {
   "cell_type": "code",
   "execution_count": 18,
   "id": "e1d21bea",
   "metadata": {},
   "outputs": [
    {
     "name": "stdout",
     "output_type": "stream",
     "text": [
      "[0, -1, -2, 1, 0, -1, 2, 1, 0]\n"
     ]
    }
   ],
   "source": [
    "results = []\n",
    "cost_price = [10.0, 12.55, 17.99]\n",
    "sale_price = [12.0, 11.50, 20.0]\n",
    "for i in range(len(cost_price)):\n",
    "    for j in range(len(sale_price)):\n",
    "        results.append(i-j)\n",
    "print(results)"
   ]
  },
  {
   "cell_type": "markdown",
   "id": "a680cd29",
   "metadata": {},
   "source": [
    "### Exercise 27:\n",
    "\n",
    "You are given the following dictionary:\n",
    "```\n",
    "student_records = {\n",
    "           “Ada”: 98.0,\n",
    "          “Bill”: 45.0,\n",
    "       “Charlie”: 63.2\n",
    "}\n",
    "```\n",
    "You are then given two separate lists, one with names, and another with grades. You are to go through these lists, and insert the students correctly into the dictionary.\n",
    "```\n",
    "student_names= [“Neva”,“Kelley”,“Emerson”]\n",
    "student_grades= [72.2,64.9,32.0 ]\n",
    "```\n",
    "1. Ensure both lists are the same length: How might we check for this?\n",
    "2. Using a for loop, iterating in range sufficient for all the elements\n",
    "    a. Each iteration here represents an index. E.g Index-0 is Neva and her grade.\n",
    "    b. Insert these into the dictionary. \n",
    "\n",
    "Remember `dictionary[“theKey”] =value`. “theKey” can be replaced with any expression which evaluates as a string. It could be a variable, or another expression."
   ]
  },
  {
   "cell_type": "code",
   "execution_count": 7,
   "id": "a53764d5",
   "metadata": {},
   "outputs": [
    {
     "name": "stdout",
     "output_type": "stream",
     "text": [
      "{'Neva': 72.2, 'Kelley': 64.9, 'Emerson': 32.0}\n"
     ]
    }
   ],
   "source": [
    "stores = {}\n",
    "std_names= [\"Neva\",\"Kelley\",\"Emerson\"]\n",
    "std_grades= [72.2,64.9,32.0 ]\n",
    "for x in range(len(std_names)):\n",
    "    for y in range(len(std_grades)):\n",
    "        if(x == y):\n",
    "            stores[std_names[x]] = std_grades[y]\n",
    "print(stores)"
   ]
  },
  {
   "cell_type": "markdown",
   "id": "71c47fd4",
   "metadata": {},
   "source": [
    "### Exercise 28:\n",
    "\n",
    "Using the `for k, v ... ` code example from the lecture slides, iterate over your newly modified dictionary, showing the new entries.\n"
   ]
  },
  {
   "cell_type": "code",
   "execution_count": 1,
   "id": "68881bb5",
   "metadata": {},
   "outputs": [
    {
     "name": "stdout",
     "output_type": "stream",
     "text": [
      "('Neva', 72.2)\n",
      "('Kelley', 64.9)\n",
      "('Emerson', 32.0)\n"
     ]
    }
   ],
   "source": [
    "stores = {'Neva': 72.2, 'Kelley': 64.9, 'Emerson': 32.0}\n",
    "for x in stores.items():\n",
    "    print(x)"
   ]
  },
  {
   "cell_type": "markdown",
   "id": "1e8559e3",
   "metadata": {},
   "source": [
    "The Extended Exercises are `optional`, and are offered as an advanced supplement for those who have completed the existing work and wish to expand on their knowledge and challenge themselves further.\n",
    "---\n",
    "\n",
    "### Extended Exercise 1 - Blame Rob:\n",
    "\n",
    "Bubble sort is a naive sorting algorithm for taking an unordered list, and sorting them into ascending order. This is achieved by stepping through the entire list, comparing the current element to the next in the sequence. If the current element is greater than the following one, they are swapped in-place. The loop then continues until all elements are exhausted. The effect of this is that the largest number will bubble up through the list to the top. Once we’ve reached the top, we start the comparison again for a second pass, third pass, fourthpass, etc. This is repeated until the list is sorted. I.e. no swaps have occurred that pass.\n",
    "\n",
    "`L = [ `9, 2`, 12, 7]`\n",
    "Is 9 > 2 -> Yes. Swap them in-place. Move along by one.\n",
    "\n",
    "`L = [ 2, `9, 12`, 7]`\n",
    "Is 9 > 12 -> No. Do nothing. Move along by one.\n",
    "\n",
    "`L = [ 2, 9, `12, 7`]`\n",
    "Is 12 > 7 -> Yes. Swap them in-place. Move along by one.\n",
    "\n",
    "`L = [ 2, 9, 7 , 12]`\n",
    "We have run out of elements, start iterating from the beginning.\n",
    "\n",
    "`L = [`2, 9`, 7, 12]`\n",
    "`L = [2, `9, 7`, 12]` -> SWAP\n",
    "`L = [2, 7, `9, 12`]`\n",
    "\n",
    "Another pass\n",
    "`L = [`2, 7`, 9, 12]`\n",
    "`L = [2, `7, 9`, 12]`\n",
    "`L = [2, 7, `9, 12`]`\n",
    "\n",
    "No swaps have been made this pass -> terminate, the list should now be sorted.\n",
    "\n",
    "Your task is to implement the above Bubble sort algorithm for a given list, "
   ]
  },
  {
   "cell_type": "code",
   "execution_count": null,
   "id": "ffae6034",
   "metadata": {},
   "outputs": [],
   "source": []
  }
 ],
 "metadata": {
  "kernelspec": {
   "display_name": "Python 3 (ipykernel)",
   "language": "python",
   "name": "python3"
  },
  "language_info": {
   "codemirror_mode": {
    "name": "ipython",
    "version": 3
   },
   "file_extension": ".py",
   "mimetype": "text/x-python",
   "name": "python",
   "nbconvert_exporter": "python",
   "pygments_lexer": "ipython3",
   "version": "3.8.10"
  }
 },
 "nbformat": 4,
 "nbformat_minor": 5
}
