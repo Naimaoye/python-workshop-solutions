{
 "cells": [
  {
   "cell_type": "markdown",
   "id": "3700a0cb",
   "metadata": {},
   "source": [
    "# Programming for AI & Data Science\n",
    "# Workshop 2\n",
    "\n",
    "## Jupyter Notebook and PIP environment\n",
    "________________________________________\n",
    "\n",
    "### Aims of the workshop\n",
    "\n",
    "In Week 1 we looked at the fundamentals of computation, and introduced you to basic constructs used within Python. These consisted of basic data types, control flow structures (if, elseif, else), boolean expressions, and loops (for, and while).\n",
    "\n",
    "This week we looked at building upon this by exploring functions, and how they can wrap common procedures that we might want to execute multiple times. We expanded upon the concept of “everything is an object” and looked at abstraction and decomposition and how we can use these when constructing and representing data in our programs to make code more reusable, readable, and maintainable.\n",
    "\n",
    "The concept behind this workshop is about discovery, and experimentation surrounding topics covered so far.\n",
    "\n",
    "Feel free to discuss the work with peers, or with any member of the teaching staff.\n",
    "\n",
    "-----"
   ]
  },
  {
   "cell_type": "markdown",
   "id": "1c020270",
   "metadata": {},
   "source": [
    "## Functions and Scope\n",
    "\n",
    "For this workshop, create a save  this notebook when complete. Name this something memorable, like Workshop 2.\n",
    "\n",
    "\n",
    "Remember, you can use Markdown cells to add your own plain text description of the task. \n",
    "\n",
    "Finally, when complete the answers should be uploaded to the Canvas assignment.\n",
    "\n",
    "\n",
    "---"
   ]
  },
  {
   "cell_type": "markdown",
   "id": "9b8cf6bd",
   "metadata": {},
   "source": [
    "### Exercise 1 \n",
    "\n",
    "Let’s create a function to print something whenever we invoke it. \n",
    "```\n",
    "def my_amazing_func():\n",
    "\tprint(\"Hello World! From my function!\")\n",
    "```\n",
    "\n",
    "To view line numbers for each of your cells you can go to View -> Toggle Line Numbers.\n",
    "\n",
    "We can now invoke (or call) our newly defined function in the following cell:\n",
    "\n",
    "```\n",
    "my_amazing_func()\n",
    "```\n",
    "---\n"
   ]
  },
  {
   "cell_type": "code",
   "execution_count": 1,
   "id": "c0f89196",
   "metadata": {},
   "outputs": [
    {
     "name": "stdout",
     "output_type": "stream",
     "text": [
      "Hello, my name is Naimah\n"
     ]
    }
   ],
   "source": [
    "def my_function():\n",
    "    print(\"Hello, my name is Naimah\")\n",
    "my_function()"
   ]
  },
  {
   "cell_type": "markdown",
   "id": "2f7bd696",
   "metadata": {},
   "source": [
    "----\n",
    "### Exercise 2\n",
    "\n",
    "In the lectures we covered the ‘return’ of a function. By using the return keyword. First, let’s prove that by default a function without this keyword will return None.\n",
    "\n",
    "In a separate cell (__Insert -> Insert Cell Below__), assign a variable to your function’s output. We can do this like so:\n",
    "\n",
    "\tvariable_name = my_amazing_func()\n",
    "\n",
    "Remember, you get to decide what to call your variable. Similarly, you get to define what you call your function. At the moment, these are toy examples so we’re using names which might not mean much, but later on we should try to use variable and function names that make sense for what we are attempting to do.\n",
    "\n",
    "After assigning a variable to your function’s output: print the value, and type, of your newly made variable.\n",
    "\n",
    "```\n",
    "print( variable_name)\n",
    "print( type (variable_name) )\n",
    "```\n",
    "From this, we can confirm that by default a function will return `None`, if we don’t add a return statement in the function definition. Using our knowledge of types, we can check this and it does indeed return as `NoneType` which is one of the special primitive data types we covered last week.\n",
    "\n",
    "\n",
    "-----\n"
   ]
  },
  {
   "cell_type": "code",
   "execution_count": 2,
   "id": "b8b90b64",
   "metadata": {},
   "outputs": [
    {
     "name": "stdout",
     "output_type": "stream",
     "text": [
      "Hello, my name is Naimah\n",
      "None\n",
      "<class 'NoneType'>\n"
     ]
    }
   ],
   "source": [
    "my_var = my_function()\n",
    "print(my_var)\n",
    "print(type(my_var))"
   ]
  },
  {
   "cell_type": "markdown",
   "id": "70fb4f06",
   "metadata": {},
   "source": [
    "\n",
    "----\n",
    "\n",
    "### Exercise 3\n",
    "\n",
    "At the moment our function can only ever do one thing. It can only print the exact phrase we wrote for it.\n",
    "\n",
    "We can modify our function to include parameters, this will allow us to pass values and variables to our function to use them in some way.\n",
    "\n",
    "Let’s modify our function to accept a string for printing. We can go back to our first cell in the notebook, and change the definition of our function. Previously, this function would print the string literal `\"Hello World! From my function!\"`. However, we now want it to directly print whatever we pass as an argument into this function.\n",
    "```\n",
    "def my_amazing_func( thing_to_print ):\n",
    "\tprint( thing_to_print )\n",
    "```\n",
    "Note: Make sure you execute this cell once you have made the changes (<kbd>Shift</kbd>+<kbd>Enter</kbd>). You will now notice a new number next to the cell. Before this was `In [ 1 ]` and now it should be higher, such as `In [ 5 ]`. To Python, we have just re-executed our function code, as though we typed it all out again. If we were to run the remaining cells in the notebook, these should behave very differently now!\n",
    "\n",
    "```\n",
    "  my_amazing_func( thing_to_print )\n",
    "```\n",
    "Uh-oh! Because we changed the definition of our function, the code we used before to invoke the function is now incorrect. Our function is expecting something to be given to it, and because we haven’t done that it complains.\n",
    "\n",
    "We can resolve this quite easily. We can provide it a string to use. Modify the erroneous cell to call `my_amazing_func(\"This is a test\")` then run the cell again (<kbd>Shift</kbd>+<kbd>Enter</kbd>).\n",
    "\n",
    "Success!\n"
   ]
  },
  {
   "cell_type": "code",
   "execution_count": 5,
   "id": "7d5a040b",
   "metadata": {},
   "outputs": [
    {
     "name": "stdout",
     "output_type": "stream",
     "text": [
      "My name is Naimah\n"
     ]
    }
   ],
   "source": [
    "def my_function(print_me):\n",
    "    print(print_me)\n",
    "my_function(\"My name is Naimah\")"
   ]
  },
  {
   "cell_type": "markdown",
   "id": "ea7ff985",
   "metadata": {},
   "source": [
    "----\n",
    "## Introducing, default values"
   ]
  },
  {
   "cell_type": "markdown",
   "id": "36bcaa88",
   "metadata": {},
   "source": [
    "### Exercise 4\n",
    "\n",
    "Alternatively, we can tell our function that the parameter we defined is optional. That is, we can call `my_amazing_func()` and `my_amazing_func( \"Beep\" )`, and both would work without Python Erroring.\n",
    "\n",
    "Let’s take a look at our function definition:\n",
    "```\n",
    "def my_amazing_func( thing_to_print ):\n",
    "\tprint( thing_to_print )\n",
    "```\n",
    "We can do something like the following to tell Python that if `thing_to_print` is not provided, that it can take on a default value. This provides a default binding for our parameter within the function scope.\n",
    "```\n",
    "def my_amazing_func( thing_to_print = \"The Default thing you want\" ):\n",
    "\tprint( thing_to_print )\n",
    "```\n",
    "If we now invoke `my_amazing_func()`, missing out that argument of what to print. We should be able to observe the function using the default.\n",
    "\n",
    "Implement these changes, making sure to redefine your original function, and re-execute the cells for the function definition, and your invocation cells. \n",
    "\n",
    "----"
   ]
  },
  {
   "cell_type": "code",
   "execution_count": 7,
   "id": "d217fbc3",
   "metadata": {},
   "outputs": [
    {
     "name": "stdout",
     "output_type": "stream",
     "text": [
      "My name is Naimah\n"
     ]
    }
   ],
   "source": [
    "def my_function(print_me = \"My name is Naimah\"):\n",
    "    print(print_me)\n",
    "my_function()"
   ]
  },
  {
   "cell_type": "markdown",
   "id": "39f99689",
   "metadata": {},
   "source": [
    "----\n",
    "\n",
    "### Exercise 5:\n",
    "\n",
    "Create a new cell beneath this, and try passing a string to your function. It should print whatever you pass it.\n",
    "\n",
    "```\n",
    "my_amazing_func(\"Do what I say\")\n",
    "```\n",
    "---\n"
   ]
  },
  {
   "cell_type": "code",
   "execution_count": 8,
   "id": "c2525ae8",
   "metadata": {},
   "outputs": [
    {
     "name": "stdout",
     "output_type": "stream",
     "text": [
      "Hey sweetie\n"
     ]
    }
   ],
   "source": [
    "my_function(\"Hey sweetie\")"
   ]
  },
  {
   "cell_type": "markdown",
   "id": "0a025189",
   "metadata": {},
   "source": [
    "## Introducing, libraries\n",
    "\n",
    "We talked briefly about Python Modules, and why we might want to use libraries which abstract away complex functionality.\n",
    "Python has some standard libraries we can import to help us with common tasks.\n",
    "\n",
    "When dealing with more complex tasks, we typically want to use some behaviours/utilities which have already been defined and provided for us. This could be telling Python to wait 2 seconds before continuing, it might be telling Python to exit itself (if we’ve hit a stopping condition and want to exit our program without human input). We will be introducing more powerful libraries in the final teaching week with Pandas and Seaborn for some Data Science tasks.\n",
    "\n",
    "---\n"
   ]
  },
  {
   "cell_type": "markdown",
   "id": "67879412",
   "metadata": {},
   "source": [
    "### Exercise 5\n",
    "\n",
    "An example of this is the random library. (https://docs.python.org/3.8/library/random.html). Using this we can generate some random numbers.\n",
    "\n",
    "To use this, we first need to tell Python where to get this functionality:\n",
    "\n",
    "```\n",
    "import random\n",
    "# This will import the library random.\n",
    "# We can use dot notation to access important functions it has for us!\n",
    "```\n",
    "\n",
    "We only need to import this once! Typically we put all our import statements at the top of our Python file or Python Notebook.\n",
    "E.g The first cell of our notebook will usually contain all import statements. As these need importing prior to using them.\n",
    "\n",
    "Let’s look at generating a random integer between some lower value and an upper value, inclusive. (https://docs.python.org/3.8/library/random.html#random.randint)\n",
    "\n",
    "In a new cell put the following:\n",
    "```\n",
    "x = random.randint(0, 10) # Random Integer between 0 and 10 inclusive.\n",
    "```\n",
    "If we print the value of x, every time we evaluate this cell, I should get a new random integer.\n",
    "\n",
    " Re-running the same cell (<kbd>Shift</kbd>+<kbd>Enter</kbd>):\n",
    " \n",
    " ---"
   ]
  },
  {
   "cell_type": "code",
   "execution_count": 10,
   "id": "1b8db201",
   "metadata": {},
   "outputs": [
    {
     "name": "stdout",
     "output_type": "stream",
     "text": [
      "9\n"
     ]
    }
   ],
   "source": [
    "import random\n",
    "x = random.randint(0, 10)\n",
    "print(x)"
   ]
  },
  {
   "cell_type": "markdown",
   "id": "92de15f6",
   "metadata": {},
   "source": [
    "---\n",
    "### Exercise 6\n",
    "\n",
    "Write a standard for loop to get a random number, and print it, repeat this 20 times.\n",
    "\n",
    "----\n"
   ]
  },
  {
   "cell_type": "code",
   "execution_count": 14,
   "id": "ea45533c",
   "metadata": {},
   "outputs": [
    {
     "name": "stdout",
     "output_type": "stream",
     "text": [
      "0\n",
      "1\n",
      "2\n",
      "3\n",
      "4\n",
      "5\n",
      "6\n",
      "7\n",
      "8\n"
     ]
    }
   ],
   "source": [
    "for x in range(random.randint(0, 10)):\n",
    "    print(x)"
   ]
  },
  {
   "cell_type": "markdown",
   "id": "6520350d",
   "metadata": {},
   "source": [
    "---\n",
    "## Scoping\n",
    "\n",
    "### Exercise 7\n",
    "\n",
    "In this week’s lecture we looked at scoping, and the concept of function scope\n",
    "We learned that a function has access to all the variables defined in the scope in which itself is defined.\n",
    "\n",
    "Consider the following:\n",
    "```\n",
    "a = \"Some outer scope string literal\"\n",
    "b = 42\n",
    "\n",
    "def some_func():\n",
    "\tprint(a, b)\n",
    "    \n",
    "some_func()\n",
    "```\n",
    "If we execute this, our function definition doesn’t have any defined parameters and we do not provide it any arguments to execute on. The only place which it can possibly get a, and b, is from its parent scope - the global scope.\n",
    "\n",
    "This can be useful in some cases, but also dangerous. What if we moved our some_func definition to a completely different section of our code? Or change a, and b, in our parent scope?\n",
    "\n",
    "Ideally, our functions should be self-contained, and shouldn’t rely on bleed through from parental scope. This reliance from the parental scope can lead to unintentional side-effects.\n",
    "\n",
    "Remember: some_func can access a, and b, getting their value. But it cannot change them from within the function! -> `UnboundLocalError` \n",
    "\n",
    "The solution is to make the function require parameters to be passed in. If our function wants to print some variables, they should be supplied.\n",
    "```\n",
    "a = \"Some outer scope string literal\"\n",
    "b = 42    \n",
    "\n",
    "# Now, by our definition, we know that this NEEDS two arguments passed in.\n",
    "def some_func_v2(a, b):\n",
    "\tprint(a, b)\n",
    "    \n",
    "# some_func_v2() # This line would error \"positional arguments\"\n",
    "some_func_v2( a, b ) # Explicitly pass a and b in.\n",
    "```\n",
    "\n",
    "Remember, that the function scope now makes a, and b binding it to whatever we pass in. \n",
    "\n",
    "If we try to `print(c)` after our function call to `some_func_v2(...)`, c should not exist. It was only ever defined within the scope of our function. We should expect an error.\n",
    "\n",
    "----"
   ]
  },
  {
   "cell_type": "code",
   "execution_count": 17,
   "id": "4265c810",
   "metadata": {},
   "outputs": [
    {
     "name": "stdout",
     "output_type": "stream",
     "text": [
      "Some outer scope string literal 42\n"
     ]
    }
   ],
   "source": [
    "a = \"Some outer scope string literal\"\n",
    "b = 42\n",
    "def some_func_v2(a, b):\n",
    "    print(a, b)\n",
    "some_func_v2( a, b)    "
   ]
  },
  {
   "cell_type": "markdown",
   "id": "ed712bff",
   "metadata": {},
   "source": [
    "-----\n",
    "\n",
    "## More Useful Functions\n",
    "\n",
    "### Exercise 8\n",
    "\n",
    "Let’s write a function which can return something. In a new cell, execute the following:\n",
    "```\n",
    "def always_4():\n",
    "\treturn 4\n",
    "```\n",
    "Create a variable, and assign it to the return of our function. (We will need to call our function to get anything back).\n",
    "\n",
    "(Reference to: https://xkcd.com/221/ )\n",
    "\n",
    "\n",
    "----\n"
   ]
  },
  {
   "cell_type": "code",
   "execution_count": 18,
   "id": "e7c63a56",
   "metadata": {},
   "outputs": [
    {
     "name": "stdout",
     "output_type": "stream",
     "text": [
      "4\n"
     ]
    }
   ],
   "source": [
    "def always_4():\n",
    "    return 4\n",
    "returned_value = always_4()\n",
    "print(returned_value)"
   ]
  },
  {
   "cell_type": "markdown",
   "id": "fa0b61c5",
   "metadata": {},
   "source": [
    "\n",
    "----\n",
    "### Exercise 9\n",
    "\n",
    "In our previous workshop we wrote some expressions for operations between two types. E.g. 5 + 7.0\n",
    "\n",
    "__Write a function__, with a suitable name of your choosing, which returns the additive sum of the two inputs. (Don’t call the function `sum`; this is a protected keyword. Some of you may have experienced a problem with this in Workshop 1).\n",
    "```\n",
    "my_result = sum_two_numbers(5, 7)\n",
    "print (my_result)\n",
    "```\n",
    "\n",
    "----\n"
   ]
  },
  {
   "cell_type": "code",
   "execution_count": 20,
   "id": "a96320f1",
   "metadata": {},
   "outputs": [
    {
     "name": "stdout",
     "output_type": "stream",
     "text": [
      "12.0\n"
     ]
    }
   ],
   "source": [
    "def sum_two_numbers(a, b):\n",
    "    return a + b\n",
    "my_result = sum_two_numbers(5, 7.0)\n",
    "print(my_result)"
   ]
  },
  {
   "cell_type": "markdown",
   "id": "b7e3e4bd",
   "metadata": {},
   "source": [
    "---\n",
    "\n",
    "### Exercise 10\n",
    "\n",
    "Consider the following task. You are asked to write a function which accepts a list of any length as its input. This list will be of numbers which may contain a -1 as a data element. The return of this function should be the index at which a -1 was found.\n",
    "\n",
    "For this example, you may assume that the input list will __always__ have an entry which is -1 somewhere.\n",
    "\n",
    "Example:\n",
    "\n",
    "```\n",
    "A = [ 5, 2, 9, -1, 3, 12]\n",
    "indx_of_issue = find_negative_one( A )\n",
    "print(indx_of_issue) # Should give me 3 (4th element in A).\n",
    "```\n",
    "\n",
    "---"
   ]
  },
  {
   "cell_type": "code",
   "execution_count": null,
   "id": "83f14f3d",
   "metadata": {},
   "outputs": [],
   "source": []
  },
  {
   "cell_type": "markdown",
   "id": "82661d5b",
   "metadata": {},
   "source": [
    "---\n",
    "\n",
    "### Exercise 11 \n",
    "\n",
    "You find out later that the input list may sometimes __not__ contain a negative one. What would be the output of your function in this case (as it is currently written)? And how could I check the `indx_of_issue` variable to determine whether I did find a -1 or not?\n",
    "__Modify your code__ such that it prints the index if a -1 was found, otherwise it prints “There is no -1 here”.\n",
    "\n",
    "---"
   ]
  },
  {
   "cell_type": "code",
   "execution_count": null,
   "id": "2e927c08",
   "metadata": {},
   "outputs": [],
   "source": []
  },
  {
   "cell_type": "markdown",
   "id": "dc9f73a5",
   "metadata": {},
   "source": [
    "---\n",
    "### Exercise 12\n",
    "\n",
    "Taking the procedure you used for Ex 26 from Workshop 1:\n",
    "\n",
    "1.\tCreate a function which accepts a list of names, and a list of grades.\n",
    "2.\tThe body of the function should initialise an empty dictionary, and combine the names and grades as the key and value (as in Ex 26)\n",
    "\n",
    "    a.\tE.g. it might look like this `{ “Neva”: 72.2, “Kelley”: 64.9, “Emerson”: 32.0 }`\n",
    "    \n",
    "    b.\tRemember: What if we had 100,000 entries! -> Write code to do the key: value mix for you, don’t just write the dictionary literal itself.\n",
    "3.\tThe function should return this newly created dictionary.\n",
    "4.\tTake the existing `student_records` dictionary and concatenate the return of the function\n",
    "\n",
    "```\n",
    "def get_combined_namegrades( names, grades ):\n",
    "\t# Initialise an empty dictionary.\n",
    "\t# Combine names with grades to make the dictionary\n",
    "\t# Keys are the names,\n",
    "\t# Values are the grades for the given student.\n",
    "\t# Return the dictionary\n",
    "    \n",
    "student_records = {\n",
    "\t\"Ada\": 98.0,\n",
    "\t\"Bill\": 45.0,\n",
    "\t\"Charlie\": 63.2\n",
    "}\n",
    "\n",
    "student_names = [\"Teri\", \"Johanna\", \"Tomas\", \"Piotr\", \"Grzegorz\"]\n",
    "student_grades= [35.0, 52.5, 37.8, 65.0, 64.8]\n",
    "\n",
    "# Invoke the get_combined_namegrades function\n",
    "# passing the appropriate lists\n",
    "# Use the return\n",
    "\n",
    "# Concatenate this newly returned dictionary to our student_records.\n",
    "# Print the updated student_records variables to show it worked.\n",
    "print(student_records)\n",
    "```\n",
    "Note: Take care when copy-pasting from a Word Document. `“` and `‘` may be different, leading to syntax error.\n",
    "\n",
    "Hint: We can `.update(...)` our dictionary with another.\n",
    "\n",
    "---\n"
   ]
  },
  {
   "cell_type": "code",
   "execution_count": null,
   "id": "ecd10746",
   "metadata": {},
   "outputs": [],
   "source": []
  },
  {
   "cell_type": "markdown",
   "id": "878904c5",
   "metadata": {},
   "source": [
    "---\n",
    "\n",
    "### Exercise 13\n",
    "\n",
    "Taking our updated `student_records`, create a __dictionary comprehension__ which will only include items with a `grade >= 65`. (I.e. act as a filter). Assign this to a variable called `filtered_student_records`.\n",
    "This should be output once complete:\n",
    "\n",
    "```\n",
    "print (filtered_student_records)\n",
    "```\n",
    "\n",
    "---\n"
   ]
  },
  {
   "cell_type": "code",
   "execution_count": null,
   "id": "45f9a1b0",
   "metadata": {},
   "outputs": [],
   "source": []
  },
  {
   "cell_type": "markdown",
   "id": "298d1c97",
   "metadata": {},
   "source": [
    "---\n",
    "\n",
    "### Exercise 14\n",
    "\n",
    "Create a function, which will take as input a grade as a float, and output a string which denotes the grade classification.\n",
    "\n",
    "E.g.\n",
    "\n",
    "> < 40.0 is a  “Fail”  \n",
    "\t40.0 - 50.0 is a “Pass”  \n",
    "\t50.0 - 60.0 is “2:2”  \n",
    "\t60.0-70.0 is a “2:1”  \n",
    "\t> 70.0 is a “First”  \n",
    "```\n",
    "def grade_to_classification( grade ):\n",
    "\tif grade < 40.0:\n",
    "    \treturn \"Fail\"\n",
    "\telif …\n",
    "```\n",
    "The above template is provided to help you get started. You will need to check values of the grade provided to determine what should be returned. A consideration once you’ve completed your if, elif, else conditionals is: “Have you covered every eventuality? Could I provide a grade which doesn’t match one of your cases? Thus will return None.”\n",
    "\n",
    "Create a dictionary comprehension which will apply `grade_to_classification` for every value.\n",
    "Hint: `{k: v ...`  Would store the value, v, at the key k. We want to store the return of `grade_to_classification` on that grade (I.e. `grade_to_classification(v)` in this case)\n",
    "\n",
    "Hint 2: For determining if a value is within two ranges you will need to use the logical operators for boolean expressions from last week. \n",
    "E.g. `grade >= 40.0 and grade < 50.0`\n",
    "If you print the result of this more complex dictionary comprehension, you should get the following:\n",
    "\n",
    "`{'Ada': 'First', 'Bill': 'Pass', 'Charlie': '2:1', 'Teri': 'Fail', 'Johanna': '2:2', 'Tomas': 'Fail', 'Piotr': '2:1', 'Grzegorz': '2:1'}`\n",
    "  \n",
    "---\n"
   ]
  },
  {
   "cell_type": "code",
   "execution_count": null,
   "id": "9847d656",
   "metadata": {},
   "outputs": [],
   "source": []
  },
  {
   "cell_type": "markdown",
   "id": "e31f9b9d",
   "metadata": {},
   "source": [
    "---\n",
    "### Exercise 15\n",
    "\n",
    "You are given a list of just grades, and asked to calculate which grade gets which classification. Using your newly defined function for this, write a __List Comprehension__ which will apply the function on every element.\n",
    "```\n",
    "more_grades = [0.0, 50.0, 49.9, 79.0, 101.0, 65.0, 54.2, 48.2, 78.9]\n",
    "```\n",
    "The output should be as follows:\n",
    "\n",
    "`['Fail', '2:2', 'Pass', 'First', 'First', '2:1', '2:2', 'Pass', 'First']`\n",
    "\n",
    "---"
   ]
  },
  {
   "cell_type": "code",
   "execution_count": null,
   "id": "e8524d04",
   "metadata": {},
   "outputs": [],
   "source": []
  },
  {
   "cell_type": "markdown",
   "id": "d168481c",
   "metadata": {},
   "source": [
    "---\n",
    "### Exercise 16\n",
    "\n",
    "The University administrators need a count of how many have failed. Modify your list comprehension to:\n",
    "1.\tOnly get the classification for grades in the fail category ( < 40 ) - This will output a smaller list.\n",
    "2.\tObtain the length of this smaller list to give to the admins as a count.\n",
    "\n",
    "---"
   ]
  },
  {
   "cell_type": "code",
   "execution_count": null,
   "id": "0fc08d23",
   "metadata": {},
   "outputs": [],
   "source": []
  },
  {
   "cell_type": "markdown",
   "id": "bd2f670a",
   "metadata": {},
   "source": [
    "---\n",
    "## Exercise 17\n",
    "\n",
    "Suspicions have been raised that the IT system may have introduced an error into the grading system. The administrators want you to write a List Comprehension which will __modify__ any values exceeding 100, to cap them at the maximum grade possible 100. __Returning the raw grades back__.\n",
    "\n",
    "Hint: There were two types of conditional. One at the end for __filtering__, and one near the beginning for modifying values.\n",
    "\n",
    "Output should look like this:\n",
    "\n",
    "`[0.0, 50.0, 49.9, 79.9, 100, 65.0, 54.2, 48.2, 78.9]`\n",
    " \n",
    "---"
   ]
  },
  {
   "cell_type": "code",
   "execution_count": null,
   "id": "aaf32d0d",
   "metadata": {},
   "outputs": [],
   "source": []
  },
  {
   "cell_type": "markdown",
   "id": "04899c7a",
   "metadata": {},
   "source": [
    "---\n",
    "## Classes\n",
    "\n",
    "### Exercise 18\n",
    "\n",
    "Create the following empty class definition:\n",
    "```\n",
    "class Student(object):\n",
    "\tpass # We need something on this line otherwise python complains\n",
    "```    \n",
    "We can create a new Student Object from this; however, it doesn’t do much currently.\n",
    "```\n",
    "alex = Student()\n",
    "```\n",
    "---"
   ]
  },
  {
   "cell_type": "code",
   "execution_count": null,
   "id": "f8fe05ee",
   "metadata": {},
   "outputs": [],
   "source": []
  },
  {
   "cell_type": "markdown",
   "id": "67e29494",
   "metadata": {},
   "source": [
    "---\n",
    "### Exercise 19\n",
    "\n",
    "Verify that `alex` is a Student object. Remember what happens if we __print__ classes, or print their __type__?\n",
    "\n",
    "---"
   ]
  },
  {
   "cell_type": "code",
   "execution_count": null,
   "id": "fa8be3af",
   "metadata": {},
   "outputs": [],
   "source": []
  },
  {
   "cell_type": "markdown",
   "id": "b79ee769",
   "metadata": {},
   "source": [
    "---\n",
    "### Exercise 20\n",
    "\n",
    "At the moment we can’t really provide any student related data when making the student object. Let’s add a constructor.\n",
    "Define an empty constructor\n",
    "```\n",
    "class Student(object):\n",
    "\tdef __init__(self):\n",
    "    \t\tprint(\"This gets called when I make a new student.\")\n",
    "```\n",
    "\n",
    "If we execute the `alex = Student()` line again, we should now get something printed. This proves that `__init__` actually gets executed. Hint: Don’t forget `self`.\n",
    "\n",
    "---\n"
   ]
  },
  {
   "cell_type": "code",
   "execution_count": null,
   "id": "a8718c09",
   "metadata": {},
   "outputs": [],
   "source": []
  },
  {
   "cell_type": "markdown",
   "id": "735892bf",
   "metadata": {},
   "source": [
    "---\n",
    "### Exercise 21\n",
    "\n",
    "What data do we currently hold for students? A __name__ and a __grade__. Modify the constructor to accept two parameters, `name`, and `grade`.\n",
    "\n",
    "Inside the constructor body, assign two attributes to `self`. (E.g. `self.name = ...` ) representing the two parameters you just put in the method definition.\n",
    "\n",
    "What happens if we try to run `alex = Student()` now?\n",
    "\n",
    "---"
   ]
  },
  {
   "cell_type": "code",
   "execution_count": null,
   "id": "595a65ca",
   "metadata": {},
   "outputs": [],
   "source": []
  },
  {
   "cell_type": "markdown",
   "id": "514a596e",
   "metadata": {},
   "source": [
    "---\n",
    "### Exercise 22\n",
    "\n",
    "Modify your instantiation of our Student object, to include a name and grade of your choice.\n",
    "E.g. We can give the variable `alex`, an actual name and grade (data attributes).\n",
    "```\n",
    "alex = Student(\"Alex\", 99)\n",
    "```\n",
    "Remember, the variable name itself doesn't impact the data of our object itself!\n",
    "I could say `x = Student(\"Alex\", 99)` it’s just a friendly/descriptive name to make the programmer’s life easier.\n",
    "\n",
    "---"
   ]
  },
  {
   "cell_type": "code",
   "execution_count": null,
   "id": "0520559d",
   "metadata": {},
   "outputs": [],
   "source": []
  },
  {
   "cell_type": "markdown",
   "id": "9e789ab2",
   "metadata": {},
   "source": [
    "---\n",
    "### Exercise 23\n",
    "\n",
    "To prove this point, let’s make a List directly with Student Objects. The only variable here is pointing to the List. Everything else is a raw data object (like 5, “bob”, [], and now our newly defined Type Student).\n",
    "```\n",
    "some_students = [ Student(\"Alex\", 99), Student(\"Rob\", 35.0), Student(\"Tasha\", 70.0) ] \n",
    "``` \n",
    "__Warning__: Notice how I mixed integer grades and floats. This won’t cause us a problem now, but in our constructor we may want to explicitly cast the incoming grade to be a float. We will look at error handling next week on what to do if something unexpected comes in instead.\n",
    "\n",
    "__Note__: Feel free to remove the print line from the constructor, if it gets annoying.\n",
    "\n",
    "I can index this list just like any list, and print the element:\n",
    "```\n",
    "print( some_students[0] )\n",
    "```\n",
    "\n",
    "---"
   ]
  },
  {
   "cell_type": "code",
   "execution_count": null,
   "id": "b449d4b0",
   "metadata": {},
   "outputs": [],
   "source": []
  },
  {
   "cell_type": "markdown",
   "id": "6f31cc2d",
   "metadata": {},
   "source": [
    "---\n",
    "### Exercise 24\n",
    "\n",
    "We already have written some code which will take a numeric grade, and convert it to a classification. Let’s add a method to our Student class which can do this for us.\n",
    "\n",
    "Just like how we got the Cats to speak based on the data attributes they hold, we can get this function to change behaviour based on the data its object holds. I.e the names and grades of each individual student object.\n",
    "```\n",
    "class Student(object):\n",
    "\tdef __init__(self, name, grade):\n",
    "    \t    ...\n",
    "\tdef get_classification(self):\n",
    "    \t\tpass # Need this here for now.\n",
    "```\n",
    "When we made our function before, we had to give it a grade to process on. However, with this method we already have access to a grade! With `self.grade`\n",
    "the function definition needs `self` as this is required for methods of an object.\n",
    "\n",
    "Replace pass with your grade classification logic that you wrote previously. Except instead of using `grade` use `self.grade`.\n",
    "\n",
    "Once this is complete, re-execute the class cell (updates our definition with python) (<kbd>shift</kbd>+<kbd>enter</kbd>). Re-execute all the other cells where we made objects (so they get this new method we’ve added) (<kbd>shift</kbd>+<kbd>enter</kbd>).\n",
    "\n",
    "With a bit of luck we should now be able to get a student to directly give you their classification. Let’s use our first student object that we made: `alex`.\n",
    "```\n",
    "print( alex.get_classification() )\n",
    "```\n",
    "Note: I changed the name of the method in this case as we are wanting the classification of our student. Remember that we use classes for hiding away information we don’t really care about. In this instance, do I need to know that the classification is derived from grade? No, I just want the classification itself.\n",
    "\n",
    "---"
   ]
  },
  {
   "cell_type": "code",
   "execution_count": null,
   "id": "114e8af4",
   "metadata": {},
   "outputs": [],
   "source": []
  },
  {
   "cell_type": "markdown",
   "id": "27208798",
   "metadata": {},
   "source": [
    "__The Extended Exercises are optional, and are offered as an advanced\n",
    "supplement for those who have completed the existing work and wish to\n",
    "expand on their knowledge and challenge themselves further.__\n"
   ]
  },
  {
   "cell_type": "markdown",
   "id": "0e067be1",
   "metadata": {},
   "source": [
    "### Extended Exercise 1\n",
    "\n",
    "A palindrome is a string which, when reversed, is identical. Some example words which are palindromes are: “Taco cat”, “Stressed desserts”, “Anna”, “kayak”, “racecar”. They can be read forwards and backwards and remain the same.\n",
    "\n",
    "Write a function which accepts a List of strings.\n",
    "This function should return a List of True/False, where True means the entry at that index was a palindrome.\n",
    "\n",
    "Challenge mode: The body of the function should be a singular List Comprehension\n",
    "\n",
    "Example:\n",
    "\n",
    "```\n",
    "input_list = [ “taco cat”, “bob”, “davey” ]\n",
    "output = palindromes( input_list )\n",
    "-> [ True, True, False ]\n",
    "```"
   ]
  },
  {
   "cell_type": "code",
   "execution_count": null,
   "id": "42661fc8",
   "metadata": {},
   "outputs": [],
   "source": []
  }
 ],
 "metadata": {
  "kernelspec": {
   "display_name": "Python 3 (ipykernel)",
   "language": "python",
   "name": "python3"
  },
  "language_info": {
   "codemirror_mode": {
    "name": "ipython",
    "version": 3
   },
   "file_extension": ".py",
   "mimetype": "text/x-python",
   "name": "python",
   "nbconvert_exporter": "python",
   "pygments_lexer": "ipython3",
   "version": "3.8.10"
  }
 },
 "nbformat": 4,
 "nbformat_minor": 5
}
